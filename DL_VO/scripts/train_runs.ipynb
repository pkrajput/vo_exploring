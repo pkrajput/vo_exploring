{
 "cells": [
  {
   "cell_type": "code",
   "execution_count": 4,
   "metadata": {},
   "outputs": [],
   "source": [
    "# !nvidia-smi"
   ]
  },
  {
   "cell_type": "code",
   "execution_count": 5,
   "metadata": {},
   "outputs": [
    {
     "name": "stdout",
     "output_type": "stream",
     "text": [
      "env: NVIDIA_VISIBLE_DEVICES=1\n",
      "env: CUDA_VISIBLE_DEVICES=2\n"
     ]
    }
   ],
   "source": [
    "%env NVIDIA_VISIBLE_DEVICES=1\n",
    "%env CUDA_VISIBLE_DEVICES=2"
   ]
  },
  {
   "cell_type": "code",
   "execution_count": 8,
   "metadata": {},
   "outputs": [
    {
     "name": "stdout",
     "output_type": "stream",
     "text": [
      "=> will save everything to checkpoints/resnet50_pose_256/05-22-09:40\n",
      "=> fetching scenes in '../../../datasets//kitti_vo_256/'\n",
      "32644 samples found in 16 train scenes\n",
      "8138 samples found in 2 valid scenes\n",
      "=> creating model\n",
      "=> using model with CoordConv\n",
      "=> setting adam solver (for PoseResNet only)\n",
      "\n",
      "\n",
      "\n",
      "\n",
      "\n",
      "\n",
      "\n",
      "\n",
      "\n",
      "\n",
      "  0% (0 of 1) |                          | Elapsed Time: 0:00:00 ETA:  --:--:--\n",
      "  0% (0 of 1000) |                       | Elapsed Time: 0:00:00 ETA:  --:--:--\n",
      "  0% (1 of 1000) |                       | Elapsed Time: 0:00:06 ETA:   1:53:32\n",
      "\u001b8\u001b7\u001b[18;1H\u001b[KTrain: Time 6.819 (6.819) Data 1.238 (1.238) Loss 1.6689 (1.6689)\n",
      "  0% (2 of 1000) |                       | Elapsed Time: 0:00:08 ETA:   1:06:41\n",
      "  0% (3 of 1000) |                       | Elapsed Time: 0:00:09 ETA:   0:19:23\n",
      "  0% (4 of 1000) |                       | Elapsed Time: 0:00:10 ETA:   0:19:03\n",
      "  0% (5 of 1000) |                       | Elapsed Time: 0:00:11 ETA:   0:19:44\n",
      "  0% (6 of 1000) |                       | Elapsed Time: 0:00:12 ETA:   0:19:14\n",
      "  0% (7 of 1000) |                       | Elapsed Time: 0:00:13 ETA:   0:18:08\n",
      "  0% (8 of 1000) |                       | Elapsed Time: 0:00:14 ETA:   0:18:09\n",
      "  0% (9 of 1000) |                       | Elapsed Time: 0:00:15 ETA:   0:18:23\n",
      "  1% (10 of 1000) |                      | Elapsed Time: 0:00:17 ETA:   0:18:14\n",
      "  1% (11 of 1000) |                      | Elapsed Time: 0:00:18 ETA:   0:17:57\n",
      "\u001b8\u001b7\u001b[18;1H\u001b[KTrain: Time 1.087 (1.648) Data 0.001 (0.113) Loss 1.6535 (1.5090)\n",
      "  1% (12 of 1000) |                      | Elapsed Time: 0:00:19 ETA:   0:18:03\n",
      "  1% (13 of 1000) |                      | Elapsed Time: 0:00:20 ETA:   0:18:21\n",
      "  1% (14 of 1000) |                      | Elapsed Time: 0:00:21 ETA:   0:18:29\n",
      "  1% (15 of 1000) |                      | Elapsed Time: 0:00:22 ETA:   0:18:33\n",
      "  1% (16 of 1000) |                      | Elapsed Time: 0:00:23 ETA:   0:18:27\n",
      "  1% (17 of 1000) |                      | Elapsed Time: 0:00:24 ETA:   0:18:22\n",
      "  1% (18 of 1000) |                      | Elapsed Time: 0:00:26 ETA:   0:18:55\n",
      "  1% (19 of 1000) |                      | Elapsed Time: 0:00:27 ETA:   0:18:35\n",
      "  2% (20 of 1000) |                      | Elapsed Time: 0:00:28 ETA:   0:17:41\n",
      "  2% (21 of 1000) |                      | Elapsed Time: 0:00:29 ETA:   0:17:40\n",
      "\u001b8\u001b7\u001b[18;1H\u001b[KTrain: Time 1.087 (1.396) Data 0.001 (0.060) Loss 1.4289 (1.5337)\n",
      "  2% (22 of 1000) |                      | Elapsed Time: 0:00:30 ETA:   0:17:52\n",
      "  2% (23 of 1000) |                      | Elapsed Time: 0:00:31 ETA:   0:18:04\n",
      "  2% (24 of 1000) |                      | Elapsed Time: 0:00:32 ETA:   0:18:44\n",
      "  2% (25 of 1000) |                      | Elapsed Time: 0:00:33 ETA:   0:18:45\n",
      "  2% (26 of 1000) |                      | Elapsed Time: 0:00:34 ETA:   0:17:53\n",
      "  2% (27 of 1000) |                      | Elapsed Time: 0:00:36 ETA:   0:17:48\n",
      "  2% (28 of 1000) |                      | Elapsed Time: 0:00:37 ETA:   0:18:03\n",
      "  2% (29 of 1000) |                      | Elapsed Time: 0:00:38 ETA:   0:18:16\n",
      "  3% (30 of 1000) |                      | Elapsed Time: 0:00:39 ETA:   0:18:20\n",
      "  3% (31 of 1000) |                      | Elapsed Time: 0:00:40 ETA:   0:18:20\n",
      "\u001b8\u001b7\u001b[18;1H\u001b[KTrain: Time 1.141 (1.308) Data 0.001 (0.041) Loss 1.6749 (1.5476)\n",
      "  3% (32 of 1000) |                      | Elapsed Time: 0:00:41 ETA:   0:18:29\n",
      "  3% (33 of 1000) |                      | Elapsed Time: 0:00:42 ETA:   0:18:29\n",
      "  3% (34 of 1000) |                      | Elapsed Time: 0:00:44 ETA:   0:18:26\n",
      "  3% (35 of 1000) |                      | Elapsed Time: 0:00:45 ETA:   0:18:32\n",
      "  3% (36 of 1000) |                      | Elapsed Time: 0:00:46 ETA:   0:18:38\n",
      "  3% (37 of 1000) |                      | Elapsed Time: 0:00:47 ETA:   0:18:18\n",
      "  3% (38 of 1000) |                      | Elapsed Time: 0:00:48 ETA:   0:18:07\n",
      "  3% (39 of 1000) |                      | Elapsed Time: 0:00:49 ETA:   0:18:26\n",
      "  4% (40 of 1000) |                      | Elapsed Time: 0:00:50 ETA:   0:18:15\n",
      "  4% (41 of 1000) |                      | Elapsed Time: 0:00:52 ETA:   0:18:04\n",
      "\u001b8\u001b7\u001b[18;1H\u001b[KTrain: Time 1.140 (1.269) Data 0.001 (0.031) Loss 1.5747 (1.5446)\n",
      "  4% (42 of 1000) |                      | Elapsed Time: 0:00:53 ETA:   0:18:20\n",
      "  4% (43 of 1000) |                      | Elapsed Time: 0:00:54 ETA:   0:18:14\n",
      "  4% (44 of 1000) |                      | Elapsed Time: 0:00:55 ETA:   0:17:43\n",
      "  4% (45 of 1000) |                      | Elapsed Time: 0:00:56 ETA:   0:18:02\n",
      "  4% (46 of 1000) |#                     | Elapsed Time: 0:00:57 ETA:   0:18:09\n",
      "  4% (47 of 1000) |#                     | Elapsed Time: 0:00:58 ETA:   0:17:53\n",
      "  4% (48 of 1000) |#                     | Elapsed Time: 0:00:59 ETA:   0:18:01\n",
      "  4% (49 of 1000) |#                     | Elapsed Time: 0:01:01 ETA:   0:18:12\n",
      "  5% (50 of 1000) |#                     | Elapsed Time: 0:01:02 ETA:   0:19:01\n",
      "  5% (51 of 1000) |#                     | Elapsed Time: 0:01:03 ETA:   0:18:56\n",
      "\u001b8\u001b7\u001b[18;1H\u001b[KTrain: Time 1.154 (1.245) Data 0.001 (0.025) Loss 1.5628 (1.5465)\n",
      "  5% (52 of 1000) |#                     | Elapsed Time: 0:01:04 ETA:   0:18:47\n",
      "  5% (53 of 1000) |#                     | Elapsed Time: 0:01:05 ETA:   0:18:45\n",
      "  5% (54 of 1000) |#                     | Elapsed Time: 0:01:07 ETA:   0:18:00\n",
      "  5% (55 of 1000) |#                     | Elapsed Time: 0:01:08 ETA:   0:17:44\n",
      "  5% (56 of 1000) |#                     | Elapsed Time: 0:01:09 ETA:   0:17:38\n",
      "  5% (57 of 1000) |#                     | Elapsed Time: 0:01:10 ETA:   0:17:58\n",
      "  5% (58 of 1000) |#                     | Elapsed Time: 0:01:11 ETA:   0:17:59\n",
      "  5% (59 of 1000) |#                     | Elapsed Time: 0:01:12 ETA:   0:17:36\n",
      "  6% (60 of 1000) |#                     | Elapsed Time: 0:01:13 ETA:   0:17:27\n",
      "  6% (61 of 1000) |#                     | Elapsed Time: 0:01:14 ETA:   0:17:23\n",
      "\u001b8\u001b7\u001b[18;1H\u001b[KTrain: Time 1.112 (1.228) Data 0.001 (0.021) Loss 1.5647 (1.5504)\n",
      "  6% (62 of 1000) |#                     | Elapsed Time: 0:01:16 ETA:   0:17:26\n",
      "  6% (63 of 1000) |#                     | Elapsed Time: 0:01:17 ETA:   0:17:28\n",
      "  6% (64 of 1000) |#                     | Elapsed Time: 0:01:18 ETA:   0:17:11\n",
      "  6% (65 of 1000) |#                     | Elapsed Time: 0:01:19 ETA:   0:17:04\n",
      "  6% (66 of 1000) |#                     | Elapsed Time: 0:01:20 ETA:   0:17:06\n",
      "  6% (67 of 1000) |#                     | Elapsed Time: 0:01:21 ETA:   0:17:17\n",
      "  6% (68 of 1000) |#                     | Elapsed Time: 0:01:22 ETA:   0:17:21\n",
      "  6% (69 of 1000) |#                     | Elapsed Time: 0:01:23 ETA:   0:17:13\n",
      "  7% (70 of 1000) |#                     | Elapsed Time: 0:01:24 ETA:   0:17:07\n",
      "  7% (71 of 1000) |#                     | Elapsed Time: 0:01:25 ETA:   0:16:59\n",
      "\u001b8\u001b7\u001b[18;1H\u001b[KTrain: Time 1.102 (1.211) Data 0.001 (0.018) Loss 1.4444 (1.5476)\n",
      "^C\n",
      "\u001b8Traceback (most recent call last):\n",
      "  File \"../train.py\", line 529, in <module>\n",
      "    main()\n",
      "  File \"../train.py\", line 277, in main\n",
      "    train_loss = train(args, train_loader, disp_net, pose_net, optimizer, args.epoch_size, logger, training_writer)\n",
      "  File \"../train.py\", line 345, in train\n",
      "    args.with_mask, args.with_auto_mask, args.padding_mode)\n",
      "  File \"/dpds/ORB_SLAM3/DopeLegal/DL_VO/loss_functions.py\", line 85, in compute_photo_and_geometry_loss\n",
      "    intrinsic_scaled, with_ssim, with_mask, with_auto_mask, padding_mode)\n",
      "  File \"/dpds/ORB_SLAM3/DopeLegal/DL_VO/loss_functions.py\", line 97, in compute_pairwise_loss\n",
      "    ref_img_warped, valid_mask, projected_depth, computed_depth = inverse_warp2(ref_img, tgt_depth, ref_depth, pose, intrinsic, padding_mode)\n",
      "  File \"/dpds/ORB_SLAM3/DopeLegal/DL_VO/inverse_warp.py\", line 255, in inverse_warp2\n",
      "    pose_mat = pose_vec2mat(pose)  # [B,3,4]\n",
      "  File \"/dpds/ORB_SLAM3/DopeLegal/DL_VO/inverse_warp.py\", line 150, in pose_vec2mat\n",
      "    rot_mat = euler2mat(rot)  # [B, 3, 3]\n",
      "  File \"/dpds/ORB_SLAM3/DopeLegal/DL_VO/inverse_warp.py\", line 93, in euler2mat\n",
      "    zmat = torch.stack([cosz, -sinz, zeros,\n",
      "  File \"/usr/lib/python3.6/traceback.py\", line 197, in format_stack\n",
      "    return format_list(extract_stack(f, limit=limit))\n",
      "  File \"/usr/lib/python3.6/traceback.py\", line 39, in format_list\n",
      "    return StackSummary.from_list(extracted_list).format()\n",
      "  File \"/usr/lib/python3.6/traceback.py\", line 422, in format\n",
      "    frame.filename, frame.lineno, frame.name))\n",
      "KeyboardInterrupt\n"
     ]
    }
   ],
   "source": [
    "!./train_resnet50_pose_256.sh"
   ]
  },
  {
   "cell_type": "code",
   "execution_count": null,
   "metadata": {},
   "outputs": [],
   "source": []
  }
 ],
 "metadata": {
  "kernelspec": {
   "display_name": "Python 3",
   "language": "python",
   "name": "python3"
  },
  "language_info": {
   "codemirror_mode": {
    "name": "ipython",
    "version": 3
   },
   "file_extension": ".py",
   "mimetype": "text/x-python",
   "name": "python",
   "nbconvert_exporter": "python",
   "pygments_lexer": "ipython3",
   "version": "3.6.9"
  }
 },
 "nbformat": 4,
 "nbformat_minor": 2
}
