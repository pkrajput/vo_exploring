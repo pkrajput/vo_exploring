{
 "cells": [
  {
   "cell_type": "code",
   "execution_count": 29,
   "metadata": {},
   "outputs": [
    {
     "name": "stdout",
     "output_type": "stream",
     "text": [
      "env: LC_ALL=C.UTF-8\n",
      "env: LANG=C.UTF-8\n"
     ]
    }
   ],
   "source": [
    "%env LC_ALL=C.UTF-8\n",
    "%env LANG=C.UTF-8"
   ]
  },
  {
   "cell_type": "code",
   "execution_count": 2,
   "metadata": {},
   "outputs": [
    {
     "name": "stdout",
     "output_type": "stream",
     "text": [
      "\u001b[34m\u001b[1mwandb\u001b[0m: Appending key for api.wandb.ai to your netrc file: /root/.netrc\r\n"
     ]
    }
   ],
   "source": [
    "!wandb login d7ef4803270409bd52a6b2449d4fd21aeedaf35a"
   ]
  },
  {
   "cell_type": "code",
   "execution_count": 5,
   "metadata": {},
   "outputs": [],
   "source": [
    "# !nvidia-smi"
   ]
  },
  {
   "cell_type": "code",
   "execution_count": 30,
   "metadata": {},
   "outputs": [
    {
     "name": "stdout",
     "output_type": "stream",
     "text": [
      "env: NVIDIA_VISIBLE_DEVICES=1\n",
      "env: CUDA_VISIBLE_DEVICES=5\n"
     ]
    }
   ],
   "source": [
    "%env NVIDIA_VISIBLE_DEVICES=1\n",
    "%env CUDA_VISIBLE_DEVICES=5"
   ]
  },
  {
   "cell_type": "code",
   "execution_count": 31,
   "metadata": {},
   "outputs": [],
   "source": [
    "# !ls ../../"
   ]
  },
  {
   "cell_type": "code",
   "execution_count": 36,
   "metadata": {},
   "outputs": [
    {
     "name": "stdout",
     "output_type": "stream",
     "text": [
      "DATA_ROOT=../..\r\n",
      "TRAIN_SET=$DATA_ROOT/kitti_vo_256\r\n",
      "\r\n",
      "python3 ../train.py $TRAIN_SET \\\r\n",
      "--resnet-layers 50 \\\r\n",
      "--num-scales 1 \\\r\n",
      "-b4 -s0.1 -c0.5 --epoch-size 1000 --sequence-length 3 \\\r\n",
      "--with-ssim 1 \\\r\n",
      "--with-mask 1 \\\r\n",
      "--with-auto-mask 1 \\\r\n",
      "--with-pretrain 0 \\\r\n",
      "--pretrained-disp ../checkpoints_pretrained/dispnet_model_best.pth.tar \\\r\n",
      "--pretrained-pose ../checkpoints_pretrained/exp_pose_model_best.pth.tar \\\r\n",
      "--epochs 100 \\\r\n",
      "--lr 1e-5 \\\r\n",
      "--name coordconv_allrandom_first_all \\\r\n",
      "--with-coord-conv 1 \\\r\n",
      "--conv1-weight-mode all_random \\\r\n",
      "--fine-tune-mode first_then_all \\\r\n",
      "--unfreeze-epoch 35 \\\r\n",
      "--use-scheduler 0 \\\r\n",
      "# --warmup-lr 1e-5 \\\r\n",
      "# --warmup-epoch 70 \\\r\n",
      "# --step-size 10 \\\r\n",
      "# --gamma-lr .1 \\\r\n",
      "# --min-lr 1e-5 \\\r\n",
      "--run-id $1 \\\r\n",
      "# --print-freq 10"
     ]
    }
   ],
   "source": [
    "!cat train_pose_allrandom_first_all.sh"
   ]
  },
  {
   "cell_type": "code",
   "execution_count": null,
   "metadata": {},
   "outputs": [
    {
     "name": "stdout",
     "output_type": "stream",
     "text": [
      "=> will save everything to checkpoints_/coordconv_allrandom_first_all/05-22-19:26\n",
      "\u001b[34m\u001b[1mwandb\u001b[0m: Currently logged in as: \u001b[33mscalyvladimir\u001b[0m. Use \u001b[1m`wandb login --relogin`\u001b[0m to force relogin\n",
      "\u001b[34m\u001b[1mwandb\u001b[0m: Tracking run with wandb version 0.12.16\n",
      "\u001b[34m\u001b[1mwandb\u001b[0m: Run data is saved locally in \u001b[35m\u001b[1m/dpds/ORB_SLAM3/vo_exploring/DL_VO/scripts/wandb/run-20220522_192641-8jh0e10g\u001b[0m\n",
      "\u001b[34m\u001b[1mwandb\u001b[0m: Run \u001b[1m`wandb offline`\u001b[0m to turn off syncing.\n",
      "\u001b[34m\u001b[1mwandb\u001b[0m: Syncing run \u001b[33mdummy_with_lr\u001b[0m\n",
      "\u001b[34m\u001b[1mwandb\u001b[0m: ������ View project at \u001b[34m\u001b[4mhttps://wandb.ai/scalyvladimir/vo_exploring\u001b[0m\n",
      "\u001b[34m\u001b[1mwandb\u001b[0m: ���� View run at \u001b[34m\u001b[4mhttps://wandb.ai/scalyvladimir/vo_exploring/runs/8jh0e10g\u001b[0m\n",
      "=> fetching scenes in '../../kitti_vo_256'\n",
      "32644 samples found in 16 train scenes\n",
      "8138 samples found in 2 valid scenes\n",
      "=> creating model\n",
      "=> using model with CoordConv\n",
      "=> using pre-trained weights for DispResNet\n",
      "=> using pre-trained weights for PoseResNet\n",
      "=> setting adam solver for PoseResNet only\n",
      "\n",
      "\n",
      "\n",
      "\n",
      "\n",
      "\n",
      "\n",
      "\n",
      "\n",
      "\n",
      "  0% (0 of 100) |                        | Elapsed Time: 0:00:00 ETA:  --:--:--\n",
      "  0% (0 of 1000) |                       | Elapsed Time: 0:00:00 ETA:  --:--:--\n",
      "  0% (1 of 1000) |                       | Elapsed Time: 0:00:03 ETA:   0:53:06\n",
      "  0% (2 of 1000) |                       | Elapsed Time: 0:00:04 ETA:   0:34:26\n",
      "  0% (3 of 1000) |                       | Elapsed Time: 0:00:05 ETA:   0:28:08\n",
      "  0% (4 of 1000) |                       | Elapsed Time: 0:00:05 ETA:   0:15:20\n",
      "  0% (5 of 1000) |                       | Elapsed Time: 0:00:06 ETA:   0:14:26\n",
      "  0% (6 of 1000) |                       | Elapsed Time: 0:00:07 ETA:   0:13:36\n",
      "  0% (7 of 1000) |                       | Elapsed Time: 0:00:08 ETA:   0:13:30\n",
      "  0% (8 of 1000) |                       | Elapsed Time: 0:00:09 ETA:   0:13:42\n",
      "  0% (9 of 1000) |                       | Elapsed Time: 0:00:10 ETA:   0:14:17\n",
      "  1% (10 of 1000) |                      | Elapsed Time: 0:00:10 ETA:   0:13:38\n",
      "  1% (11 of 1000) |                      | Elapsed Time: 0:00:11 ETA:   0:13:29\n",
      "  1% (12 of 1000) |                      | Elapsed Time: 0:00:12 ETA:   0:13:07\n",
      "  1% (13 of 1000) |                      | Elapsed Time: 0:00:13 ETA:   0:13:01\n",
      "  1% (14 of 1000) |                      | Elapsed Time: 0:00:14 ETA:   0:13:12\n",
      "  1% (15 of 1000) |                      | Elapsed Time: 0:00:14 ETA:   0:12:54\n"
     ]
    }
   ],
   "source": [
    "! ./train_pose_allrandom_first_all.sh \"dummy_with_lr\""
   ]
  },
  {
   "cell_type": "code",
   "execution_count": null,
   "metadata": {},
   "outputs": [],
   "source": []
  }
 ],
 "metadata": {
  "kernelspec": {
   "display_name": "Python 3",
   "language": "python",
   "name": "python3"
  },
  "language_info": {
   "codemirror_mode": {
    "name": "ipython",
    "version": 3
   },
   "file_extension": ".py",
   "mimetype": "text/x-python",
   "name": "python",
   "nbconvert_exporter": "python",
   "pygments_lexer": "ipython3",
   "version": "3.6.9"
  }
 },
 "nbformat": 4,
 "nbformat_minor": 2
}
