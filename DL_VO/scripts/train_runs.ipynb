{
 "cells": [
  {
   "cell_type": "code",
   "execution_count": 1,
   "metadata": {},
   "outputs": [
    {
     "name": "stdout",
     "output_type": "stream",
     "text": [
      "env: LC_ALL=C.UTF-8\n",
      "env: LANG=C.UTF-8\n"
     ]
    }
   ],
   "source": [
    "%env LC_ALL=C.UTF-8\n",
    "%env LANG=C.UTF-8"
   ]
  },
  {
   "cell_type": "code",
   "execution_count": 2,
   "metadata": {},
   "outputs": [
    {
     "name": "stdout",
     "output_type": "stream",
     "text": [
      "\u001b[34m\u001b[1mwandb\u001b[0m: Appending key for api.wandb.ai to your netrc file: /root/.netrc\r\n"
     ]
    }
   ],
   "source": [
    "!wandb login d7ef4803270409bd52a6b2449d4fd21aeedaf35a"
   ]
  },
  {
   "cell_type": "code",
   "execution_count": 5,
   "metadata": {},
   "outputs": [],
   "source": [
    "# !nvidia-smi"
   ]
  },
  {
   "cell_type": "code",
   "execution_count": 4,
   "metadata": {},
   "outputs": [
    {
     "name": "stdout",
     "output_type": "stream",
     "text": [
      "env: NVIDIA_VISIBLE_DEVICES=1\n",
      "env: CUDA_VISIBLE_DEVICES=5\n"
     ]
    }
   ],
   "source": [
    "%env NVIDIA_VISIBLE_DEVICES=1\n",
    "%env CUDA_VISIBLE_DEVICES=5"
   ]
  },
  {
   "cell_type": "code",
   "execution_count": 5,
   "metadata": {},
   "outputs": [
    {
     "name": "stdout",
     "output_type": "stream",
     "text": [
      "DL_VO  README.md  git_logics.ipynb  kitti_vo_256  kitti_vo_256.zip\r\n"
     ]
    }
   ],
   "source": [
    "!ls ../../"
   ]
  },
  {
   "cell_type": "code",
   "execution_count": 7,
   "metadata": {},
   "outputs": [
    {
     "name": "stdout",
     "output_type": "stream",
     "text": [
      "=> will save everything to checkpoints/resnet50_pose_256/05-22-09:38\n",
      "\u001b[34m\u001b[1mwandb\u001b[0m: Currently logged in as: \u001b[33mscalyvladimir\u001b[0m. Use \u001b[1m`wandb login --relogin`\u001b[0m to force relogin\n",
      "\u001b[34m\u001b[1mwandb\u001b[0m: Tracking run with wandb version 0.12.16\n",
      "\u001b[34m\u001b[1mwandb\u001b[0m: Run data is saved locally in \u001b[35m\u001b[1m/dpds/ORB_SLAM3/vo_exploring/DL_VO/scripts/wandb/run-20220522_093816-1o9pww16\u001b[0m\n",
      "\u001b[34m\u001b[1mwandb\u001b[0m: Run \u001b[1m`wandb offline`\u001b[0m to turn off syncing.\n",
      "\u001b[34m\u001b[1mwandb\u001b[0m: Syncing run \u001b[33mtest_run\u001b[0m\n",
      "\u001b[34m\u001b[1mwandb\u001b[0m: ������ View project at \u001b[34m\u001b[4mhttps://wandb.ai/scalyvladimir/vo_exploring\u001b[0m\n",
      "\u001b[34m\u001b[1mwandb\u001b[0m: ���� View run at \u001b[34m\u001b[4mhttps://wandb.ai/scalyvladimir/vo_exploring/runs/1o9pww16\u001b[0m\n",
      "=> fetching scenes in '../../kitti_vo_256'\n",
      "32644 samples found in 16 train scenes\n",
      "8138 samples found in 2 valid scenes\n",
      "=> creating model\n",
      "=> using model with CoordConv\n",
      "=> setting adam solver (for PoseResNet only)\n",
      "\n",
      "\n",
      "\n",
      "\n",
      "\n",
      "\n",
      "\n",
      "\n",
      "\n",
      "\n",
      "  0% (0 of 5) |                          | Elapsed Time: 0:00:00 ETA:  --:--:--\n",
      "  0% (0 of 1000) |                       | Elapsed Time: 0:00:00 ETA:  --:--:--\n",
      "  0% (1 of 1000) |                       | Elapsed Time: 0:00:06 ETA:   1:48:24\n",
      "  0% (2 of 1000) |                       | Elapsed Time: 0:00:07 ETA:   1:04:53\n",
      "  0% (3 of 1000) |                       | Elapsed Time: 0:00:09 ETA:   0:21:13\n",
      "  0% (4 of 1000) |                       | Elapsed Time: 0:00:10 ETA:   0:20:20\n",
      "  0% (5 of 1000) |                       | Elapsed Time: 0:00:11 ETA:   0:19:50\n",
      "  0% (6 of 1000) |                       | Elapsed Time: 0:00:12 ETA:   0:19:31\n",
      "  0% (7 of 1000) |                       | Elapsed Time: 0:00:13 ETA:   0:19:32\n",
      "  0% (8 of 1000) |                       | Elapsed Time: 0:00:14 ETA:   0:19:35\n",
      "  0% (9 of 1000) |                       | Elapsed Time: 0:00:16 ETA:   0:19:21\n",
      "  1% (10 of 1000) |                      | Elapsed Time: 0:00:17 ETA:   0:19:25\n",
      "  1% (11 of 1000) |                      | Elapsed Time: 0:00:18 ETA:   0:20:37\n",
      "  1% (12 of 1000) |                      | Elapsed Time: 0:00:19 ETA:   0:21:03\n",
      "  1% (13 of 1000) |                      | Elapsed Time: 0:00:21 ETA:   0:19:29\n",
      "  1% (14 of 1000) |                      | Elapsed Time: 0:00:22 ETA:   0:18:54\n",
      "  1% (15 of 1000) |                      | Elapsed Time: 0:00:23 ETA:   0:19:10\n",
      "  1% (16 of 1000) |                      | Elapsed Time: 0:00:24 ETA:   0:19:23\n",
      "  1% (17 of 1000) |                      | Elapsed Time: 0:00:25 ETA:   0:19:43\n",
      "  1% (18 of 1000) |                      | Elapsed Time: 0:00:27 ETA:   0:20:00\n",
      "  1% (19 of 1000) |                      | Elapsed Time: 0:00:28 ETA:   0:19:52\n",
      "  2% (20 of 1000) |                      | Elapsed Time: 0:00:29 ETA:   0:19:35\n",
      "  2% (21 of 1000) |                      | Elapsed Time: 0:00:30 ETA:   0:19:32\n",
      "  2% (22 of 1000) |                      | Elapsed Time: 0:00:31 ETA:   0:19:40\n",
      "  2% (23 of 1000) |                      | Elapsed Time: 0:00:33 ETA:   0:19:46\n",
      "  2% (24 of 1000) |                      | Elapsed Time: 0:00:34 ETA:   0:20:08\n",
      "  2% (25 of 1000) |                      | Elapsed Time: 0:00:35 ETA:   0:20:14\n",
      "  2% (26 of 1000) |                      | Elapsed Time: 0:00:36 ETA:   0:19:56\n",
      "  2% (27 of 1000) |                      | Elapsed Time: 0:00:37 ETA:   0:19:44\n",
      "  2% (28 of 1000) |                      | Elapsed Time: 0:00:39 ETA:   0:19:19\n",
      "  2% (29 of 1000) |                      | Elapsed Time: 0:00:40 ETA:   0:18:58\n",
      "  3% (30 of 1000) |                      | Elapsed Time: 0:00:41 ETA:   0:18:55\n",
      "  3% (31 of 1000) |                      | Elapsed Time: 0:00:42 ETA:   0:19:01\n",
      "  3% (32 of 1000) |                      | Elapsed Time: 0:00:43 ETA:   0:19:33\n",
      "  3% (33 of 1000) |                      | Elapsed Time: 0:00:45 ETA:   0:19:17\n",
      "  3% (34 of 1000) |                      | Elapsed Time: 0:00:46 ETA:   0:18:40\n",
      "  3% (35 of 1000) |                      | Elapsed Time: 0:00:47 ETA:   0:19:01\n",
      "  3% (36 of 1000) |                      | Elapsed Time: 0:00:48 ETA:   0:19:24\n",
      "  3% (37 of 1000) |                      | Elapsed Time: 0:00:49 ETA:   0:18:57\n",
      "  3% (38 of 1000) |                      | Elapsed Time: 0:00:50 ETA:   0:18:00\n",
      "  3% (39 of 1000) |                      | Elapsed Time: 0:00:52 ETA:   0:17:56\n",
      "  4% (40 of 1000) |                      | Elapsed Time: 0:00:53 ETA:   0:18:32\n",
      "  4% (41 of 1000) |                      | Elapsed Time: 0:00:54 ETA:   0:18:40\n",
      "  4% (42 of 1000) |                      | Elapsed Time: 0:00:55 ETA:   0:18:28\n",
      "^C\n",
      "\u001b8Traceback (most recent call last):\n",
      "  File \"../train.py\", line 545, in <module>\n",
      "    main()\n",
      "  File \"../train.py\", line 287, in main\n",
      "    train_loss = train(args, train_loader, disp_net, pose_net, optimizer, args.epoch_size, logger, training_writer)\n",
      "  File \"../train.py\", line 377, in train\n",
      "    loss.backward()\n",
      "  File \"/usr/local/lib/python3.6/dist-packages/torch/_tensor.py\", line 307, in backward\n",
      "    torch.autograd.backward(self, gradient, retain_graph, create_graph, inputs=inputs)\n",
      "  File \"/usr/local/lib/python3.6/dist-packages/torch/autograd/__init__.py\", line 156, in backward\n",
      "    allow_unreachable=True, accumulate_grad=True)  # allow_unreachable flag\n",
      "KeyboardInterrupt\n"
     ]
    }
   ],
   "source": [
    "! ./train_resnet50_pose_256.sh \"test_run\""
   ]
  },
  {
   "cell_type": "code",
   "execution_count": null,
   "metadata": {},
   "outputs": [],
   "source": []
  }
 ],
 "metadata": {
  "kernelspec": {
   "display_name": "Python 3",
   "language": "python",
   "name": "python3"
  },
  "language_info": {
   "codemirror_mode": {
    "name": "ipython",
    "version": 3
   },
   "file_extension": ".py",
   "mimetype": "text/x-python",
   "name": "python",
   "nbconvert_exporter": "python",
   "pygments_lexer": "ipython3",
   "version": "3.6.9"
  }
 },
 "nbformat": 4,
 "nbformat_minor": 2
}
