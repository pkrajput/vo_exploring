{
 "cells": [
  {
   "cell_type": "code",
   "execution_count": 29,
   "metadata": {},
   "outputs": [
    {
     "name": "stdout",
     "output_type": "stream",
     "text": [
      "env: LC_ALL=C.UTF-8\n",
      "env: LANG=C.UTF-8\n"
     ]
    }
   ],
   "source": [
    "%env LC_ALL=C.UTF-8\n",
    "%env LANG=C.UTF-8"
   ]
  },
  {
   "cell_type": "code",
   "execution_count": 2,
   "metadata": {},
   "outputs": [
    {
     "name": "stdout",
     "output_type": "stream",
     "text": [
      "\u001b[34m\u001b[1mwandb\u001b[0m: Appending key for api.wandb.ai to your netrc file: /root/.netrc\r\n"
     ]
    }
   ],
   "source": [
    "!wandb login d7ef4803270409bd52a6b2449d4fd21aeedaf35a"
   ]
  },
  {
   "cell_type": "code",
   "execution_count": 5,
   "metadata": {},
   "outputs": [],
   "source": [
    "# !nvidia-smi"
   ]
  },
  {
   "cell_type": "code",
   "execution_count": 30,
   "metadata": {},
   "outputs": [
    {
     "name": "stdout",
     "output_type": "stream",
     "text": [
      "env: NVIDIA_VISIBLE_DEVICES=1\n",
      "env: CUDA_VISIBLE_DEVICES=5\n"
     ]
    }
   ],
   "source": [
    "%env NVIDIA_VISIBLE_DEVICES=1\n",
    "%env CUDA_VISIBLE_DEVICES=5"
   ]
  },
  {
   "cell_type": "code",
   "execution_count": 31,
   "metadata": {},
   "outputs": [],
   "source": [
    "# !ls ../../"
   ]
  },
  {
   "cell_type": "code",
   "execution_count": 32,
   "metadata": {},
   "outputs": [
    {
     "name": "stdout",
     "output_type": "stream",
     "text": [
      "DATA_ROOT=../..\r\n",
      "TRAIN_SET=$DATA_ROOT/kitti_vo_256\r\n",
      "\r\n",
      "python3 ../train.py $TRAIN_SET \\\r\n",
      "--resnet-layers 50 \\\r\n",
      "--num-scales 1 \\\r\n",
      "-b4 -s0.1 -c0.5 --epoch-size 1000 --sequence-length 3 \\\r\n",
      "--with-ssim 1 \\\r\n",
      "--with-mask 1 \\\r\n",
      "--with-auto-mask 1 \\\r\n",
      "--with-pretrain 0 \\\r\n",
      "--pretrained-disp ../checkpoints_pretrained/dispnet_model_best.pth.tar \\\r\n",
      "--pretrained-pose ../checkpoints_pretrained/exp_pose_model_best.pth.tar \\\r\n",
      "--epochs 100 \\\r\n",
      "--lr 1e-5 \\\r\n",
      "--name coordconv_allrandom_first_all \\\r\n",
      "--with-coord-conv 1 \\\r\n",
      "--conv1-weight-mode all_random \\\r\n",
      "--fine-tune-mode first_then_all \\\r\n",
      "--unfreeze-epoch 35 \\\r\n",
      "--use-scheduler 0 \\\r\n",
      "# --warmup-lr 1e-5 \\\r\n",
      "# --warmup-epoch 70 \\\r\n",
      "# --step-size 10 \\\r\n",
      "# --gamma-lr .1 \\\r\n",
      "# --min-lr 1e-5 \\\r\n",
      "--run-id $1 \\\r\n",
      "# --print-freq 10"
     ]
    }
   ],
   "source": [
    "!cat train_pose_allrandom_first_all.sh"
   ]
  },
  {
   "cell_type": "code",
   "execution_count": null,
   "metadata": {},
   "outputs": [
    {
     "name": "stdout",
     "output_type": "stream",
     "text": [
      "=> will save everything to checkpoints_/coordconv_allrandom_first_all/05-22-18:57\n",
      "\u001b[34m\u001b[1mwandb\u001b[0m: Currently logged in as: \u001b[33mscalyvladimir\u001b[0m. Use \u001b[1m`wandb login --relogin`\u001b[0m to force relogin\n",
      "\u001b[34m\u001b[1mwandb\u001b[0m: Tracking run with wandb version 0.12.16\n",
      "\u001b[34m\u001b[1mwandb\u001b[0m: Run data is saved locally in \u001b[35m\u001b[1m/dpds/ORB_SLAM3/vo_exploring/DL_VO/scripts/wandb/run-20220522_185758-1agqoca4\u001b[0m\n",
      "\u001b[34m\u001b[1mwandb\u001b[0m: Run \u001b[1m`wandb offline`\u001b[0m to turn off syncing.\n",
      "\u001b[34m\u001b[1mwandb\u001b[0m: Syncing run \u001b[33mjolly-grass-32\u001b[0m\n",
      "\u001b[34m\u001b[1mwandb\u001b[0m: ������ View project at \u001b[34m\u001b[4mhttps://wandb.ai/scalyvladimir/vo_exploring\u001b[0m\n",
      "\u001b[34m\u001b[1mwandb\u001b[0m: ���� View run at \u001b[34m\u001b[4mhttps://wandb.ai/scalyvladimir/vo_exploring/runs/1agqoca4\u001b[0m\n",
      "=> fetching scenes in '../../kitti_vo_256'\n",
      "32644 samples found in 16 train scenes\n",
      "8138 samples found in 2 valid scenes\n",
      "=> creating model\n",
      "=> using model with CoordConv\n",
      "=> using pre-trained weights for DispResNet\n",
      "=> using pre-trained weights for PoseResNet\n",
      "=> setting adam solver for PoseResNet only\n",
      "\n",
      "\n",
      "\n",
      "\n",
      "\n",
      "\n",
      "\n",
      "\n",
      "\n",
      "\n",
      "  0% (0 of 100) |                        | Elapsed Time: 0:00:00 ETA:  --:--:--\n",
      "  0% (0 of 1000) |                       | Elapsed Time: 0:00:00 ETA:  --:--:--\n",
      "  0% (1 of 1000) |                       | Elapsed Time: 0:00:03 ETA:   0:52:20\n",
      "  0% (2 of 1000) |                       | Elapsed Time: 0:00:03 ETA:   0:32:38\n",
      "  0% (3 of 1000) |                       | Elapsed Time: 0:00:04 ETA:   0:26:08\n",
      "  0% (4 of 1000) |                       | Elapsed Time: 0:00:05 ETA:   0:12:45\n",
      "  0% (5 of 1000) |                       | Elapsed Time: 0:00:06 ETA:   0:12:28\n",
      "  0% (6 of 1000) |                       | Elapsed Time: 0:00:06 ETA:   0:12:21\n",
      "  0% (7 of 1000) |                       | Elapsed Time: 0:00:07 ETA:   0:12:12\n",
      "  0% (8 of 1000) |                       | Elapsed Time: 0:00:08 ETA:   0:12:11\n",
      "  0% (9 of 1000) |                       | Elapsed Time: 0:00:09 ETA:   0:12:28\n",
      "  1% (10 of 1000) |                      | Elapsed Time: 0:00:09 ETA:   0:12:43\n",
      "  1% (11 of 1000) |                      | Elapsed Time: 0:00:10 ETA:   0:12:40\n",
      "  1% (12 of 1000) |                      | Elapsed Time: 0:00:11 ETA:   0:12:08\n",
      "  1% (13 of 1000) |                      | Elapsed Time: 0:00:12 ETA:   0:12:03\n",
      "  1% (14 of 1000) |                      | Elapsed Time: 0:00:12 ETA:   0:12:02\n",
      "  1% (15 of 1000) |                      | Elapsed Time: 0:00:13 ETA:   0:12:21\n",
      "  1% (16 of 1000) |                      | Elapsed Time: 0:00:14 ETA:   0:12:26\n",
      "  1% (17 of 1000) |                      | Elapsed Time: 0:00:15 ETA:   0:12:19\n",
      "  1% (18 of 1000) |                      | Elapsed Time: 0:00:15 ETA:   0:12:20\n",
      "  1% (19 of 1000) |                      | Elapsed Time: 0:00:16 ETA:   0:11:56\n",
      "  2% (20 of 1000) |                      | Elapsed Time: 0:00:17 ETA:   0:11:50\n",
      "  2% (21 of 1000) |                      | Elapsed Time: 0:00:18 ETA:   0:11:24\n",
      "  2% (22 of 1000) |                      | Elapsed Time: 0:00:18 ETA:   0:12:00\n",
      "  2% (23 of 1000) |                      | Elapsed Time: 0:00:19 ETA:   0:12:13\n",
      "  2% (24 of 1000) |                      | Elapsed Time: 0:00:20 ETA:   0:12:11\n",
      "  2% (25 of 1000) |                      | Elapsed Time: 0:00:21 ETA:   0:11:46\n",
      "  2% (26 of 1000) |                      | Elapsed Time: 0:00:21 ETA:   0:11:38\n",
      "  2% (27 of 1000) |                      | Elapsed Time: 0:00:22 ETA:   0:11:35\n",
      "  2% (28 of 1000) |                      | Elapsed Time: 0:00:23 ETA:   0:11:30\n",
      "  2% (29 of 1000) |                      | Elapsed Time: 0:00:23 ETA:   0:11:41\n",
      "  3% (30 of 1000) |                      | Elapsed Time: 0:00:24 ETA:   0:11:35\n",
      "  3% (31 of 1000) |                      | Elapsed Time: 0:00:25 ETA:   0:11:40\n",
      "  3% (32 of 1000) |                      | Elapsed Time: 0:00:26 ETA:   0:11:33\n",
      "  3% (33 of 1000) |                      | Elapsed Time: 0:00:26 ETA:   0:11:44\n",
      "  3% (34 of 1000) |                      | Elapsed Time: 0:00:27 ETA:   0:11:49\n",
      "  3% (35 of 1000) |                      | Elapsed Time: 0:00:28 ETA:   0:11:44\n",
      "  3% (36 of 1000) |                      | Elapsed Time: 0:00:29 ETA:   0:12:14\n",
      "  3% (37 of 1000) |                      | Elapsed Time: 0:00:29 ETA:   0:12:27\n",
      "  3% (38 of 1000) |                      | Elapsed Time: 0:00:30 ETA:   0:13:06\n",
      "  3% (39 of 1000) |                      | Elapsed Time: 0:00:31 ETA:   0:13:21\n",
      "  4% (40 of 1000) |                      | Elapsed Time: 0:00:32 ETA:   0:13:07\n",
      "  4% (41 of 1000) |                      | Elapsed Time: 0:00:33 ETA:   0:13:09\n",
      "  4% (42 of 1000) |                      | Elapsed Time: 0:00:34 ETA:   0:12:59\n",
      "  4% (43 of 1000) |                      | Elapsed Time: 0:00:34 ETA:   0:13:06\n",
      "  4% (44 of 1000) |                      | Elapsed Time: 0:00:35 ETA:   0:12:57\n",
      "  4% (45 of 1000) |                      | Elapsed Time: 0:00:36 ETA:   0:13:31\n",
      "  4% (46 of 1000) |#                     | Elapsed Time: 0:00:37 ETA:   0:14:03\n",
      "  4% (47 of 1000) |#                     | Elapsed Time: 0:00:38 ETA:   0:13:59\n",
      "  4% (48 of 1000) |#                     | Elapsed Time: 0:00:39 ETA:   0:13:22\n",
      "  4% (49 of 1000) |#                     | Elapsed Time: 0:00:39 ETA:   0:13:00\n",
      "  5% (50 of 1000) |#                     | Elapsed Time: 0:00:40 ETA:   0:13:08\n",
      "  5% (51 of 1000) |#                     | Elapsed Time: 0:00:41 ETA:   0:12:56\n",
      "  5% (52 of 1000) |#                     | Elapsed Time: 0:00:42 ETA:   0:12:56\n",
      "  5% (53 of 1000) |#                     | Elapsed Time: 0:00:43 ETA:   0:12:43\n",
      "  5% (54 of 1000) |#                     | Elapsed Time: 0:00:43 ETA:   0:12:48\n",
      "  5% (55 of 1000) |#                     | Elapsed Time: 0:00:44 ETA:   0:12:27\n",
      "  5% (56 of 1000) |#                     | Elapsed Time: 0:00:45 ETA:   0:12:18\n",
      "  5% (57 of 1000) |#                     | Elapsed Time: 0:00:46 ETA:   0:12:15\n",
      "  5% (58 of 1000) |#                     | Elapsed Time: 0:00:47 ETA:   0:12:15\n",
      "  5% (59 of 1000) |#                     | Elapsed Time: 0:00:47 ETA:   0:12:15\n",
      "  6% (60 of 1000) |#                     | Elapsed Time: 0:00:48 ETA:   0:12:13\n",
      "  6% (61 of 1000) |#                     | Elapsed Time: 0:00:49 ETA:   0:12:49\n",
      "  6% (62 of 1000) |#                     | Elapsed Time: 0:00:50 ETA:   0:13:23\n",
      "  6% (63 of 1000) |#                     | Elapsed Time: 0:00:51 ETA:   0:13:18\n",
      "  6% (64 of 1000) |#                     | Elapsed Time: 0:00:51 ETA:   0:12:45\n",
      "  6% (65 of 1000) |#                     | Elapsed Time: 0:00:52 ETA:   0:12:07\n",
      "  6% (66 of 1000) |#                     | Elapsed Time: 0:00:53 ETA:   0:12:12\n",
      "  6% (67 of 1000) |#                     | Elapsed Time: 0:00:54 ETA:   0:12:29\n",
      "  6% (68 of 1000) |#                     | Elapsed Time: 0:00:55 ETA:   0:12:24\n",
      "  6% (69 of 1000) |#                     | Elapsed Time: 0:00:55 ETA:   0:12:27\n",
      "  7% (70 of 1000) |#                     | Elapsed Time: 0:00:56 ETA:   0:12:31\n",
      "  7% (71 of 1000) |#                     | Elapsed Time: 0:00:57 ETA:   0:12:52\n",
      "  7% (72 of 1000) |#                     | Elapsed Time: 0:00:58 ETA:   0:12:49\n",
      "  7% (73 of 1000) |#                     | Elapsed Time: 0:00:59 ETA:   0:12:47\n",
      "  7% (74 of 1000) |#                     | Elapsed Time: 0:01:00 ETA:   0:13:03\n",
      "  7% (75 of 1000) |#                     | Elapsed Time: 0:01:01 ETA:   0:13:15\n",
      "  7% (76 of 1000) |#                     | Elapsed Time: 0:01:01 ETA:   0:13:07\n",
      "  7% (77 of 1000) |#                     | Elapsed Time: 0:01:02 ETA:   0:12:35\n",
      "  7% (78 of 1000) |#                     | Elapsed Time: 0:01:03 ETA:   0:12:04\n",
      "  7% (79 of 1000) |#                     | Elapsed Time: 0:01:04 ETA:   0:13:06\n",
      "  8% (80 of 1000) |#                     | Elapsed Time: 0:01:05 ETA:   0:13:05\n",
      "  8% (81 of 1000) |#                     | Elapsed Time: 0:01:05 ETA:   0:13:05\n",
      "  8% (82 of 1000) |#                     | Elapsed Time: 0:01:06 ETA:   0:12:11\n",
      "  8% (83 of 1000) |#                     | Elapsed Time: 0:01:07 ETA:   0:12:06\n",
      "  8% (84 of 1000) |#                     | Elapsed Time: 0:01:08 ETA:   0:12:10\n",
      "  8% (85 of 1000) |#                     | Elapsed Time: 0:01:09 ETA:   0:12:05\n",
      "  8% (86 of 1000) |#                     | Elapsed Time: 0:01:10 ETA:   0:12:28\n",
      "  8% (87 of 1000) |#                     | Elapsed Time: 0:01:10 ETA:   0:12:44\n",
      "  8% (88 of 1000) |#                     | Elapsed Time: 0:01:11 ETA:   0:12:56\n"
     ]
    },
    {
     "name": "stdout",
     "output_type": "stream",
     "text": [
      "  8% (89 of 1000) |#                     | Elapsed Time: 0:01:12 ETA:   0:12:59\n",
      "  9% (90 of 1000) |#                     | Elapsed Time: 0:01:13 ETA:   0:12:45\n",
      "  9% (91 of 1000) |##                    | Elapsed Time: 0:01:14 ETA:   0:13:04\n",
      "  9% (92 of 1000) |##                    | Elapsed Time: 0:01:15 ETA:   0:12:50\n",
      "  9% (93 of 1000) |##                    | Elapsed Time: 0:01:15 ETA:   0:12:36\n",
      "  9% (94 of 1000) |##                    | Elapsed Time: 0:01:16 ETA:   0:12:10\n",
      "  9% (95 of 1000) |##                    | Elapsed Time: 0:01:17 ETA:   0:12:22\n",
      "  9% (96 of 1000) |##                    | Elapsed Time: 0:01:18 ETA:   0:12:32\n",
      "  9% (97 of 1000) |##                    | Elapsed Time: 0:01:19 ETA:   0:12:32\n",
      "  9% (98 of 1000) |##                    | Elapsed Time: 0:01:20 ETA:   0:12:34\n",
      "  9% (99 of 1000) |##                    | Elapsed Time: 0:01:20 ETA:   0:12:34\n",
      " 10% (100 of 1000) |##                   | Elapsed Time: 0:01:21 ETA:   0:12:33\n",
      " 10% (101 of 1000) |##                   | Elapsed Time: 0:01:22 ETA:   0:12:18\n",
      " 10% (102 of 1000) |##                   | Elapsed Time: 0:01:23 ETA:   0:12:41\n",
      " 10% (103 of 1000) |##                   | Elapsed Time: 0:01:24 ETA:   0:12:43\n",
      " 10% (104 of 1000) |##                   | Elapsed Time: 0:01:25 ETA:   0:12:48\n",
      " 10% (105 of 1000) |##                   | Elapsed Time: 0:01:25 ETA:   0:12:21\n",
      " 10% (106 of 1000) |##                   | Elapsed Time: 0:01:26 ETA:   0:11:59\n",
      " 10% (107 of 1000) |##                   | Elapsed Time: 0:01:27 ETA:   0:11:56\n",
      " 10% (108 of 1000) |##                   | Elapsed Time: 0:01:28 ETA:   0:12:05\n",
      " 10% (109 of 1000) |##                   | Elapsed Time: 0:01:29 ETA:   0:12:35\n",
      " 11% (110 of 1000) |##                   | Elapsed Time: 0:01:30 ETA:   0:12:19\n",
      " 11% (111 of 1000) |##                   | Elapsed Time: 0:01:30 ETA:   0:12:25\n",
      " 11% (112 of 1000) |##                   | Elapsed Time: 0:01:31 ETA:   0:12:24\n",
      " 11% (113 of 1000) |##                   | Elapsed Time: 0:01:32 ETA:   0:12:34\n",
      " 11% (114 of 1000) |##                   | Elapsed Time: 0:01:33 ETA:   0:12:28\n",
      " 11% (115 of 1000) |##                   | Elapsed Time: 0:01:34 ETA:   0:12:32\n",
      " 11% (116 of 1000) |##                   | Elapsed Time: 0:01:35 ETA:   0:12:12\n",
      " 11% (117 of 1000) |##                   | Elapsed Time: 0:01:35 ETA:   0:12:05\n",
      " 11% (118 of 1000) |##                   | Elapsed Time: 0:01:36 ETA:   0:11:32\n",
      " 11% (119 of 1000) |##                   | Elapsed Time: 0:01:37 ETA:   0:11:45\n",
      " 12% (120 of 1000) |##                   | Elapsed Time: 0:01:38 ETA:   0:11:55\n",
      " 12% (121 of 1000) |##                   | Elapsed Time: 0:01:39 ETA:   0:12:11\n",
      " 12% (122 of 1000) |##                   | Elapsed Time: 0:01:40 ETA:   0:12:14\n",
      " 12% (123 of 1000) |##                   | Elapsed Time: 0:01:40 ETA:   0:12:00\n",
      " 12% (124 of 1000) |##                   | Elapsed Time: 0:01:41 ETA:   0:12:00\n",
      " 12% (125 of 1000) |##                   | Elapsed Time: 0:01:42 ETA:   0:11:45\n",
      " 12% (126 of 1000) |##                   | Elapsed Time: 0:01:43 ETA:   0:11:56\n",
      " 12% (127 of 1000) |##                   | Elapsed Time: 0:01:44 ETA:   0:11:36\n",
      " 12% (128 of 1000) |##                   | Elapsed Time: 0:01:45 ETA:   0:12:29\n",
      " 12% (129 of 1000) |##                   | Elapsed Time: 0:01:45 ETA:   0:12:12\n",
      " 13% (130 of 1000) |##                   | Elapsed Time: 0:01:46 ETA:   0:12:01\n",
      " 13% (131 of 1000) |##                   | Elapsed Time: 0:01:47 ETA:   0:11:00\n",
      " 13% (132 of 1000) |##                   | Elapsed Time: 0:01:48 ETA:   0:10:54\n",
      " 13% (133 of 1000) |##                   | Elapsed Time: 0:01:48 ETA:   0:10:50\n",
      " 13% (134 of 1000) |##                   | Elapsed Time: 0:01:49 ETA:   0:11:14\n",
      " 13% (135 of 1000) |##                   | Elapsed Time: 0:01:50 ETA:   0:11:33\n",
      " 13% (136 of 1000) |##                   | Elapsed Time: 0:01:51 ETA:   0:12:26\n",
      " 13% (137 of 1000) |##                   | Elapsed Time: 0:01:52 ETA:   0:12:18\n",
      " 13% (138 of 1000) |##                   | Elapsed Time: 0:01:52 ETA:   0:12:00\n",
      " 13% (139 of 1000) |##                   | Elapsed Time: 0:01:53 ETA:   0:11:20\n",
      " 14% (140 of 1000) |##                   | Elapsed Time: 0:01:54 ETA:   0:11:12\n",
      " 14% (141 of 1000) |##                   | Elapsed Time: 0:01:55 ETA:   0:11:26\n",
      " 14% (142 of 1000) |##                   | Elapsed Time: 0:01:56 ETA:   0:11:42\n",
      " 14% (143 of 1000) |###                  | Elapsed Time: 0:01:57 ETA:   0:12:17\n",
      " 14% (144 of 1000) |###                  | Elapsed Time: 0:01:57 ETA:   0:12:02\n",
      " 14% (145 of 1000) |###                  | Elapsed Time: 0:01:58 ETA:   0:11:34\n",
      " 14% (146 of 1000) |###                  | Elapsed Time: 0:01:59 ETA:   0:11:19\n",
      " 14% (147 of 1000) |###                  | Elapsed Time: 0:02:00 ETA:   0:11:38\n",
      " 14% (148 of 1000) |###                  | Elapsed Time: 0:02:01 ETA:   0:11:59\n",
      " 14% (149 of 1000) |###                  | Elapsed Time: 0:02:01 ETA:   0:11:38\n",
      " 15% (150 of 1000) |###                  | Elapsed Time: 0:02:02 ETA:   0:11:19\n",
      " 15% (151 of 1000) |###                  | Elapsed Time: 0:02:03 ETA:   0:10:58\n",
      " 15% (152 of 1000) |###                  | Elapsed Time: 0:02:04 ETA:   0:10:53\n",
      " 15% (153 of 1000) |###                  | Elapsed Time: 0:02:05 ETA:   0:10:46\n",
      " 15% (154 of 1000) |###                  | Elapsed Time: 0:02:05 ETA:   0:10:59\n",
      " 15% (155 of 1000) |###                  | Elapsed Time: 0:02:06 ETA:   0:10:53\n",
      " 15% (156 of 1000) |###                  | Elapsed Time: 0:02:07 ETA:   0:10:54\n",
      " 15% (157 of 1000) |###                  | Elapsed Time: 0:02:08 ETA:   0:11:13\n",
      " 15% (158 of 1000) |###                  | Elapsed Time: 0:02:09 ETA:   0:11:59\n",
      " 15% (159 of 1000) |###                  | Elapsed Time: 0:02:09 ETA:   0:11:46\n",
      " 16% (160 of 1000) |###                  | Elapsed Time: 0:02:10 ETA:   0:11:16\n",
      " 16% (161 of 1000) |###                  | Elapsed Time: 0:02:11 ETA:   0:10:21\n",
      " 16% (162 of 1000) |###                  | Elapsed Time: 0:02:12 ETA:   0:10:33\n",
      " 16% (163 of 1000) |###                  | Elapsed Time: 0:02:12 ETA:   0:10:13\n",
      " 16% (164 of 1000) |###                  | Elapsed Time: 0:02:13 ETA:   0:10:15\n",
      " 16% (165 of 1000) |###                  | Elapsed Time: 0:02:14 ETA:   0:10:23\n",
      " 16% (166 of 1000) |###                  | Elapsed Time: 0:02:15 ETA:   0:10:55\n",
      " 16% (167 of 1000) |###                  | Elapsed Time: 0:02:15 ETA:   0:11:10\n",
      " 16% (168 of 1000) |###                  | Elapsed Time: 0:02:16 ETA:   0:11:26\n",
      " 16% (169 of 1000) |###                  | Elapsed Time: 0:02:17 ETA:   0:11:02\n",
      " 17% (170 of 1000) |###                  | Elapsed Time: 0:02:18 ETA:   0:10:46\n",
      " 17% (171 of 1000) |###                  | Elapsed Time: 0:02:19 ETA:   0:10:37\n",
      " 17% (172 of 1000) |###                  | Elapsed Time: 0:02:19 ETA:   0:10:43\n",
      " 17% (173 of 1000) |###                  | Elapsed Time: 0:02:20 ETA:   0:10:51\n",
      " 17% (174 of 1000) |###                  | Elapsed Time: 0:02:21 ETA:   0:10:12\n",
      " 17% (175 of 1000) |###                  | Elapsed Time: 0:02:22 ETA:   0:09:57\n",
      " 17% (176 of 1000) |###                  | Elapsed Time: 0:02:22 ETA:   0:09:50\n",
      " 17% (177 of 1000) |###                  | Elapsed Time: 0:02:23 ETA:   0:09:56\n",
      " 17% (178 of 1000) |###                  | Elapsed Time: 0:02:24 ETA:   0:10:07\n",
      " 17% (179 of 1000) |###                  | Elapsed Time: 0:02:25 ETA:   0:10:28\n",
      " 18% (180 of 1000) |###                  | Elapsed Time: 0:02:25 ETA:   0:10:37\n",
      " 18% (181 of 1000) |###                  | Elapsed Time: 0:02:26 ETA:   0:11:06\n",
      " 18% (182 of 1000) |###                  | Elapsed Time: 0:02:27 ETA:   0:11:22\n",
      " 18% (183 of 1000) |###                  | Elapsed Time: 0:02:28 ETA:   0:11:25\n",
      " 18% (184 of 1000) |###                  | Elapsed Time: 0:02:29 ETA:   0:10:52\n",
      " 18% (185 of 1000) |###                  | Elapsed Time: 0:02:29 ETA:   0:10:22\n",
      " 18% (186 of 1000) |###                  | Elapsed Time: 0:02:30 ETA:   0:10:29\n",
      " 18% (187 of 1000) |###                  | Elapsed Time: 0:02:31 ETA:   0:10:38\n",
      " 18% (188 of 1000) |###                  | Elapsed Time: 0:02:32 ETA:   0:10:32\n",
      " 18% (189 of 1000) |###                  | Elapsed Time: 0:02:33 ETA:   0:10:15\n",
      " 19% (190 of 1000) |###                  | Elapsed Time: 0:02:33 ETA:   0:10:12\n",
      " 19% (191 of 1000) |####                 | Elapsed Time: 0:02:34 ETA:   0:10:32\n"
     ]
    },
    {
     "name": "stdout",
     "output_type": "stream",
     "text": [
      " 19% (192 of 1000) |####                 | Elapsed Time: 0:02:35 ETA:   0:10:38\n",
      " 19% (193 of 1000) |####                 | Elapsed Time: 0:02:36 ETA:   0:10:24\n",
      " 19% (194 of 1000) |####                 | Elapsed Time: 0:02:36 ETA:   0:09:55\n",
      " 19% (195 of 1000) |####                 | Elapsed Time: 0:02:37 ETA:   0:09:56\n",
      " 19% (196 of 1000) |####                 | Elapsed Time: 0:02:38 ETA:   0:09:59\n",
      " 19% (197 of 1000) |####                 | Elapsed Time: 0:02:39 ETA:   0:09:55\n",
      " 19% (198 of 1000) |####                 | Elapsed Time: 0:02:39 ETA:   0:09:37\n",
      " 19% (199 of 1000) |####                 | Elapsed Time: 0:02:40 ETA:   0:09:29\n",
      " 20% (200 of 1000) |####                 | Elapsed Time: 0:02:41 ETA:   0:09:58\n",
      " 20% (201 of 1000) |####                 | Elapsed Time: 0:02:42 ETA:   0:10:08\n",
      " 20% (202 of 1000) |####                 | Elapsed Time: 0:02:42 ETA:   0:10:07\n",
      " 20% (203 of 1000) |####                 | Elapsed Time: 0:02:43 ETA:   0:09:49\n",
      " 20% (204 of 1000) |####                 | Elapsed Time: 0:02:44 ETA:   0:10:14\n"
     ]
    }
   ],
   "source": [
    "! ./train_pose_allrandom_first_all.sh \"dummy_with_lr\""
   ]
  },
  {
   "cell_type": "code",
   "execution_count": null,
   "metadata": {},
   "outputs": [],
   "source": []
  }
 ],
 "metadata": {
  "kernelspec": {
   "display_name": "Python 3",
   "language": "python",
   "name": "python3"
  },
  "language_info": {
   "codemirror_mode": {
    "name": "ipython",
    "version": 3
   },
   "file_extension": ".py",
   "mimetype": "text/x-python",
   "name": "python",
   "nbconvert_exporter": "python",
   "pygments_lexer": "ipython3",
   "version": "3.6.9"
  }
 },
 "nbformat": 4,
 "nbformat_minor": 2
}
