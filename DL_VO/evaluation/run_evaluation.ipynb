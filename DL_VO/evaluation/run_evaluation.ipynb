{
 "cells": [
  {
   "cell_type": "code",
   "execution_count": 29,
   "id": "18efd466",
   "metadata": {},
   "outputs": [
    {
     "name": "stdout",
     "output_type": "stream",
     "text": [
      "Thu May 26 12:24:18 2022       \n",
      "+-----------------------------------------------------------------------------+\n",
      "| NVIDIA-SMI 450.102.04   Driver Version: 450.102.04   CUDA Version: 11.0     |\n",
      "|-------------------------------+----------------------+----------------------+\n",
      "| GPU  Name        Persistence-M| Bus-Id        Disp.A | Volatile Uncorr. ECC |\n",
      "| Fan  Temp  Perf  Pwr:Usage/Cap|         Memory-Usage | GPU-Util  Compute M. |\n",
      "|                               |                      |               MIG M. |\n",
      "|===============================+======================+======================|\n",
      "|   0  Tesla V100-SXM2...  Off  | 00000000:06:00.0 Off |                    0 |\n",
      "| N/A   32C    P0    58W / 300W |  15903MiB / 16160MiB |      0%      Default |\n",
      "|                               |                      |                  N/A |\n",
      "+-------------------------------+----------------------+----------------------+\n",
      "|   1  Tesla V100-SXM2...  Off  | 00000000:07:00.0 Off |                    0 |\n",
      "| N/A   35C    P0    59W / 300W |  16047MiB / 16160MiB |      0%      Default |\n",
      "|                               |                      |                  N/A |\n",
      "+-------------------------------+----------------------+----------------------+\n",
      "|   2  Tesla V100-SXM2...  Off  | 00000000:0A:00.0 Off |                    0 |\n",
      "| N/A   43C    P0    94W / 300W |  10776MiB / 16160MiB |      4%      Default |\n",
      "|                               |                      |                  N/A |\n",
      "+-------------------------------+----------------------+----------------------+\n",
      "|   3  Tesla V100-SXM2...  Off  | 00000000:0B:00.0 Off |                    0 |\n",
      "| N/A   36C    P0    84W / 300W |   7518MiB / 16160MiB |     12%      Default |\n",
      "|                               |                      |                  N/A |\n",
      "+-------------------------------+----------------------+----------------------+\n",
      "|   4  Tesla V100-SXM2...  Off  | 00000000:85:00.0 Off |                    0 |\n",
      "| N/A   34C    P0    59W / 300W |   7491MiB / 16160MiB |      0%      Default |\n",
      "|                               |                      |                  N/A |\n",
      "+-------------------------------+----------------------+----------------------+\n",
      "|   5  Tesla V100-SXM2...  Off  | 00000000:86:00.0 Off |                    0 |\n",
      "| N/A   35C    P0    59W / 300W |  12104MiB / 16160MiB |      0%      Default |\n",
      "|                               |                      |                  N/A |\n",
      "+-------------------------------+----------------------+----------------------+\n",
      "|   6  Tesla V100-SXM2...  Off  | 00000000:89:00.0 Off |                    0 |\n",
      "| N/A   45C    P0   246W / 300W |  13147MiB / 16160MiB |     29%      Default |\n",
      "|                               |                      |                  N/A |\n",
      "+-------------------------------+----------------------+----------------------+\n",
      "|   7  Tesla V100-SXM2...  Off  | 00000000:8A:00.0 Off |                    0 |\n",
      "| N/A   32C    P0    60W / 300W |  15274MiB / 16160MiB |      0%      Default |\n",
      "|                               |                      |                  N/A |\n",
      "+-------------------------------+----------------------+----------------------+\n",
      "                                                                               \n",
      "+-----------------------------------------------------------------------------+\n",
      "| Processes:                                                                  |\n",
      "|  GPU   GI   CI        PID   Type   Process name                  GPU Memory |\n",
      "|        ID   ID                                                   Usage      |\n",
      "|=============================================================================|\n",
      "+-----------------------------------------------------------------------------+\n"
     ]
    }
   ],
   "source": [
    "!nvidia-smi"
   ]
  },
  {
   "cell_type": "code",
   "execution_count": 17,
   "id": "37229383",
   "metadata": {},
   "outputs": [
    {
     "name": "stdout",
     "output_type": "stream",
     "text": [
      "env: NVIDIA_VISIBLE_DEVICES=1\n",
      "env: CUDA_VISIBLE_DEVICES=4\n"
     ]
    }
   ],
   "source": [
    "%env NVIDIA_VISIBLE_DEVICES=1\n",
    "%env CUDA_VISIBLE_DEVICES=4"
   ]
  },
  {
   "cell_type": "code",
   "execution_count": 18,
   "id": "6d348622",
   "metadata": {},
   "outputs": [
    {
     "name": "stdout",
     "output_type": "stream",
     "text": [
      "DATASET_DIR=../kitti_odom_test/\r\n",
      "OUTPUT_DIR=vo_results/\r\n",
      "\r\n",
      "if [ -d $OUTPUT_DIR ] \r\n",
      "then\r\n",
      "    rm -rf $OUTPUT_DIR\r\n",
      "else\r\n",
      "    mkdir $OUTPUT_DIR\r\n",
      "fi\r\n",
      "\r\n",
      "POSE_NET=../checkpoints_/coordconv_allrandom_whole/05-23-20:03/exp_pose_model_best.pth.tar\r\n",
      "\r\n",
      "python3 test_vo.py \\\r\n",
      "--img-height 256 --img-width 832 \\\r\n",
      "--sequence 09 \\\r\n",
      "--pretrained-posenet $POSE_NET --dataset-dir $DATASET_DIR --output-dir $OUTPUT_DIR\r\n",
      "\r\n",
      "python3 test_vo.py \\\r\n",
      "--img-height 256 --img-width 832 \\\r\n",
      "--sequence 10 \\\r\n",
      "--pretrained-posenet $POSE_NET --dataset-dir $DATASET_DIR --output-dir $OUTPUT_DIR\r\n",
      "\r\n",
      "python3 eval_odom.py --result=$OUTPUT_DIR --align='7dof'"
     ]
    }
   ],
   "source": [
    "!cat test_kitti_vo.sh"
   ]
  },
  {
   "cell_type": "code",
   "execution_count": 22,
   "id": "05a2f022",
   "metadata": {},
   "outputs": [],
   "source": [
    "# %env DEBIAN_FRONTEND=\"noninteractive\""
   ]
  },
  {
   "cell_type": "code",
   "execution_count": 33,
   "id": "fb8e5d50",
   "metadata": {},
   "outputs": [
    {
     "name": "stdout",
     "output_type": "stream",
     "text": [
      "Sequence: 9\n",
      "Translational error (%):  71.45175561109396\n",
      "Rotational error (deg/100m):  26.001756149166876\n",
      "ATE (m):  196.034249108387\n",
      "RPE (m):  1.0984170739316654\n",
      "RPE (deg):  0.695946719346163\n",
      "\n",
      "Sequence: 10\n",
      "Translational error (%):  105.4335864888269\n",
      "Rotational error (deg/100m):  24.10025702225333\n",
      "ATE (m):  79.27350354076692\n",
      "RPE (m):  0.9785999674048139\n",
      "RPE (deg):  0.5765301607095371\n",
      "\n",
      "-------------------- For Copying ------------------------------\n",
      "71.45\n",
      "26.00\n",
      "196.03\n",
      "1.098\n",
      "0.696\n",
      "\n",
      "105.43\n",
      "24.10\n",
      "79.27\n",
      "0.979\n",
      "0.577\n",
      "\n"
     ]
    }
   ],
   "source": [
    "!python3 eval_odom.py --result=vo_results/ --align='7dof'"
   ]
  },
  {
   "cell_type": "code",
   "execution_count": 28,
   "id": "4dc3713d",
   "metadata": {},
   "outputs": [
    {
     "name": "stdout",
     "output_type": "stream",
     "text": [
      "1591 files to test\n",
      "100%|#######################################| 1590/1590 [09:33<00:00,  2.77it/s]\n",
      "1201 files to test\n",
      "100%|#######################################| 1200/1200 [07:05<00:00,  2.82it/s]\n",
      "Traceback (most recent call last):\n",
      "  File \"eval_odom.py\", line 31, in <module>\n",
      "    seqs=args.seqs,\n",
      "  File \"/dpds/ORB_SLAM3/vo_exploring/DL_VO/evaluation/kitti_odometry.py\", line 541, in eval\n",
      "    poses_gt = self.load_poses_from_txt(self.gt_dir + \"/\" + file_name)\n",
      "  File \"/dpds/ORB_SLAM3/vo_exploring/DL_VO/evaluation/kitti_odometry.py\", line 95, in load_poses_from_txt\n",
      "    f = open(file_name, 'r')\n",
      "FileNotFoundError: [Errno 2] No such file or directory: './kitti_eval/gt_poses//09.txt'\n"
     ]
    }
   ],
   "source": [
    "! ./test_kitti_vo.sh"
   ]
  },
  {
   "cell_type": "code",
   "execution_count": null,
   "id": "40d6b5f8",
   "metadata": {},
   "outputs": [],
   "source": []
  }
 ],
 "metadata": {
  "kernelspec": {
   "display_name": "Python 3",
   "language": "python",
   "name": "python3"
  },
  "language_info": {
   "codemirror_mode": {
    "name": "ipython",
    "version": 3
   },
   "file_extension": ".py",
   "mimetype": "text/x-python",
   "name": "python",
   "nbconvert_exporter": "python",
   "pygments_lexer": "ipython3",
   "version": "3.6.9"
  }
 },
 "nbformat": 4,
 "nbformat_minor": 5
}
