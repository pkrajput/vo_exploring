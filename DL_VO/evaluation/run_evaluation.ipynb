{
 "cells": [
  {
   "cell_type": "code",
   "execution_count": 3,
   "id": "299b2f12",
   "metadata": {},
   "outputs": [
    {
     "name": "stdout",
     "output_type": "stream",
     "text": [
      "Wed May 25 18:20:06 2022       \n",
      "+-----------------------------------------------------------------------------+\n",
      "| NVIDIA-SMI 450.102.04   Driver Version: 450.102.04   CUDA Version: 11.0     |\n",
      "|-------------------------------+----------------------+----------------------+\n",
      "| GPU  Name        Persistence-M| Bus-Id        Disp.A | Volatile Uncorr. ECC |\n",
      "| Fan  Temp  Perf  Pwr:Usage/Cap|         Memory-Usage | GPU-Util  Compute M. |\n",
      "|                               |                      |               MIG M. |\n",
      "|===============================+======================+======================|\n",
      "|   0  Tesla V100-SXM2...  Off  | 00000000:06:00.0 Off |                    0 |\n",
      "| N/A   35C    P0    59W / 300W |  15903MiB / 16160MiB |      0%      Default |\n",
      "|                               |                      |                  N/A |\n",
      "+-------------------------------+----------------------+----------------------+\n",
      "|   1  Tesla V100-SXM2...  Off  | 00000000:07:00.0 Off |                    0 |\n",
      "| N/A   37C    P0    59W / 300W |  16047MiB / 16160MiB |      0%      Default |\n",
      "|                               |                      |                  N/A |\n",
      "+-------------------------------+----------------------+----------------------+\n",
      "|   2  Tesla V100-SXM2...  Off  | 00000000:0A:00.0 Off |                    0 |\n",
      "| N/A   50C    P0   274W / 300W |  15112MiB / 16160MiB |     96%      Default |\n",
      "|                               |                      |                  N/A |\n",
      "+-------------------------------+----------------------+----------------------+\n",
      "|   3  Tesla V100-SXM2...  Off  | 00000000:0B:00.0 Off |                    0 |\n",
      "| N/A   36C    P0    73W / 300W |   7518MiB / 16160MiB |     16%      Default |\n",
      "|                               |                      |                  N/A |\n",
      "+-------------------------------+----------------------+----------------------+\n",
      "|   4  Tesla V100-SXM2...  Off  | 00000000:85:00.0 Off |                    0 |\n",
      "| N/A   35C    P0    59W / 300W |   7491MiB / 16160MiB |      0%      Default |\n",
      "|                               |                      |                  N/A |\n",
      "+-------------------------------+----------------------+----------------------+\n",
      "|   5  Tesla V100-SXM2...  Off  | 00000000:86:00.0 Off |                    0 |\n",
      "| N/A   36C    P0    59W / 300W |  12104MiB / 16160MiB |      0%      Default |\n",
      "|                               |                      |                  N/A |\n",
      "+-------------------------------+----------------------+----------------------+\n",
      "|   6  Tesla V100-SXM2...  Off  | 00000000:89:00.0 Off |                    0 |\n",
      "| N/A   44C    P0   100W / 300W |  13149MiB / 16160MiB |      8%      Default |\n",
      "|                               |                      |                  N/A |\n",
      "+-------------------------------+----------------------+----------------------+\n",
      "|   7  Tesla V100-SXM2...  Off  | 00000000:8A:00.0 Off |                    0 |\n",
      "| N/A   34C    P0    60W / 300W |  15274MiB / 16160MiB |      0%      Default |\n",
      "|                               |                      |                  N/A |\n",
      "+-------------------------------+----------------------+----------------------+\n",
      "                                                                               \n",
      "+-----------------------------------------------------------------------------+\n",
      "| Processes:                                                                  |\n",
      "|  GPU   GI   CI        PID   Type   Process name                  GPU Memory |\n",
      "|        ID   ID                                                   Usage      |\n",
      "|=============================================================================|\n",
      "+-----------------------------------------------------------------------------+\n"
     ]
    }
   ],
   "source": [
    "!nvidia-smi"
   ]
  },
  {
   "cell_type": "code",
   "execution_count": 1,
   "id": "44c78650",
   "metadata": {},
   "outputs": [
    {
     "name": "stdout",
     "output_type": "stream",
     "text": [
      "env: NVIDIA_VISIBLE_DEVICES=1\n",
      "env: CUDA_VISIBLE_DEVICES=7\n"
     ]
    }
   ],
   "source": [
    "%env NVIDIA_VISIBLE_DEVICES=1\n",
    "%env CUDA_VISIBLE_DEVICES=7"
   ]
  },
  {
   "cell_type": "code",
   "execution_count": 1,
   "id": "f9e310b1",
   "metadata": {},
   "outputs": [
    {
     "name": "stdout",
     "output_type": "stream",
     "text": [
      "DATASET_DIR=../kitti_vo_256\r\n",
      "OUTPUT_DIR=vo_results/\r\n",
      "\r\n",
      "if [ -d $OUTPUT_DIR ] \r\n",
      "then\r\n",
      "    rm -rf $OUTPUT_DIR\r\n",
      "else\r\n",
      "    mkdir $OUTPUT_DIR\r\n",
      "fi\r\n",
      "\r\n",
      "POSE_NET=../checkpoints_/coordconv_allrandom_whole/05-23-20:03/exp_pose_model_best.pth.tar\r\n",
      "\r\n",
      "python3 test_vo.py \\\r\n",
      "--img-height 256 --img-width 832 \\\r\n",
      "--sequence 09 \\\r\n",
      "--pretrained-posenet $POSE_NET --dataset-dir $DATASET_DIR --output-dir $OUTPUT_DIR\r\n",
      "\r\n",
      "python3 test_vo.py \\\r\n",
      "--img-height 256 --img-width 832 \\\r\n",
      "--sequence 10 \\\r\n",
      "--pretrained-posenet $POSE_NET --dataset-dir $DATASET_DIR --output-dir $OUTPUT_DIR\r\n",
      "\r\n",
      "python3 eval_odom.py --result=$OUTPUT_DIR --align='7dof'"
     ]
    }
   ],
   "source": [
    "!cat test_kitti_vo.sh"
   ]
  },
  {
   "cell_type": "code",
   "execution_count": 22,
   "id": "76495ab4",
   "metadata": {},
   "outputs": [],
   "source": [
    "# %env DEBIAN_FRONTEND=\"noninteractive\""
   ]
  },
  {
   "cell_type": "code",
   "execution_count": 2,
   "id": "5db42692",
   "metadata": {},
   "outputs": [
    {
     "name": "stdout",
     "output_type": "stream",
     "text": [
      "Traceback (most recent call last):\n",
      "  File \"test_vo.py\", line 91, in <module>\n",
      "    main()\n",
      "  File \"/usr/local/lib/python3.6/dist-packages/torch/autograd/grad_mode.py\", line 28, in decorate_context\n",
      "    return func(*args, **kwargs)\n",
      "  File \"test_vo.py\", line 50, in main\n",
      "    weights_pose = torch.load(args.pretrained_posenet)\n",
      "  File \"/usr/local/lib/python3.6/dist-packages/torch/serialization.py\", line 607, in load\n",
      "    return _load(opened_zipfile, map_location, pickle_module, **pickle_load_args)\n",
      "  File \"/usr/local/lib/python3.6/dist-packages/torch/serialization.py\", line 882, in _load\n",
      "    result = unpickler.load()\n",
      "  File \"/usr/local/lib/python3.6/dist-packages/torch/serialization.py\", line 857, in persistent_load\n",
      "    load_tensor(data_type, size, key, _maybe_decode_ascii(location))\n",
      "  File \"/usr/local/lib/python3.6/dist-packages/torch/serialization.py\", line 846, in load_tensor\n",
      "    loaded_storages[key] = restore_location(storage, location)\n",
      "  File \"/usr/local/lib/python3.6/dist-packages/torch/serialization.py\", line 175, in default_restore_location\n",
      "    result = fn(storage, location)\n",
      "  File \"/usr/local/lib/python3.6/dist-packages/torch/serialization.py\", line 157, in _cuda_deserialize\n",
      "    return obj.cuda(device)\n",
      "  File \"/usr/local/lib/python3.6/dist-packages/torch/_utils.py\", line 79, in _cuda\n",
      "    return new_type(self.size()).copy_(self, non_blocking)\n",
      "  File \"/usr/local/lib/python3.6/dist-packages/torch/cuda/__init__.py\", line 606, in _lazy_new\n",
      "    return super(_CudaBase, cls).__new__(cls, *args, **kwargs)\n",
      "RuntimeError: CUDA error: out of memory\n",
      "CUDA kernel errors might be asynchronously reported at some other API call,so the stacktrace below might be incorrect.\n",
      "For debugging consider passing CUDA_LAUNCH_BLOCKING=1.\n",
      "Traceback (most recent call last):\n",
      "  File \"test_vo.py\", line 91, in <module>\n",
      "    main()\n",
      "  File \"/usr/local/lib/python3.6/dist-packages/torch/autograd/grad_mode.py\", line 28, in decorate_context\n",
      "    return func(*args, **kwargs)\n",
      "  File \"test_vo.py\", line 50, in main\n",
      "    weights_pose = torch.load(args.pretrained_posenet)\n",
      "  File \"/usr/local/lib/python3.6/dist-packages/torch/serialization.py\", line 607, in load\n",
      "    return _load(opened_zipfile, map_location, pickle_module, **pickle_load_args)\n",
      "  File \"/usr/local/lib/python3.6/dist-packages/torch/serialization.py\", line 882, in _load\n",
      "    result = unpickler.load()\n",
      "  File \"/usr/local/lib/python3.6/dist-packages/torch/serialization.py\", line 857, in persistent_load\n",
      "    load_tensor(data_type, size, key, _maybe_decode_ascii(location))\n",
      "  File \"/usr/local/lib/python3.6/dist-packages/torch/serialization.py\", line 846, in load_tensor\n",
      "    loaded_storages[key] = restore_location(storage, location)\n",
      "  File \"/usr/local/lib/python3.6/dist-packages/torch/serialization.py\", line 175, in default_restore_location\n",
      "    result = fn(storage, location)\n",
      "  File \"/usr/local/lib/python3.6/dist-packages/torch/serialization.py\", line 157, in _cuda_deserialize\n",
      "    return obj.cuda(device)\n",
      "  File \"/usr/local/lib/python3.6/dist-packages/torch/_utils.py\", line 79, in _cuda\n",
      "    return new_type(self.size()).copy_(self, non_blocking)\n",
      "  File \"/usr/local/lib/python3.6/dist-packages/torch/cuda/__init__.py\", line 606, in _lazy_new\n",
      "    return super(_CudaBase, cls).__new__(cls, *args, **kwargs)\n",
      "RuntimeError: CUDA error: out of memory\n",
      "CUDA kernel errors might be asynchronously reported at some other API call,so the stacktrace below might be incorrect.\n",
      "For debugging consider passing CUDA_LAUNCH_BLOCKING=1.\n",
      "Evaluate result in vo_results/? [y/n]^C\n",
      "Traceback (most recent call last):\n",
      "  File \"eval_odom.py\", line 25, in <module>\n",
      "    continue_flag = input(\"Evaluate result in {}? [y/n]\".format(result_dir))\n",
      "KeyboardInterrupt\n"
     ]
    }
   ],
   "source": [
    "! ./test_kitti_vo.sh"
   ]
  },
  {
   "cell_type": "code",
   "execution_count": null,
   "id": "514ed13f",
   "metadata": {},
   "outputs": [],
   "source": []
  }
 ],
 "metadata": {
  "kernelspec": {
   "display_name": "Python 3",
   "language": "python",
   "name": "python3"
  },
  "language_info": {
   "codemirror_mode": {
    "name": "ipython",
    "version": 3
   },
   "file_extension": ".py",
   "mimetype": "text/x-python",
   "name": "python",
   "nbconvert_exporter": "python",
   "pygments_lexer": "ipython3",
   "version": "3.6.9"
  }
 },
 "nbformat": 4,
 "nbformat_minor": 5
}
