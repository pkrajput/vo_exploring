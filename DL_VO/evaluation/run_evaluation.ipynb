{
 "cells": [
  {
   "cell_type": "code",
   "execution_count": 10,
   "id": "a2fa8372",
   "metadata": {},
   "outputs": [],
   "source": [
    "# !nvidia-smi"
   ]
  },
  {
   "cell_type": "code",
   "execution_count": 11,
   "id": "5d5542bc",
   "metadata": {},
   "outputs": [
    {
     "name": "stdout",
     "output_type": "stream",
     "text": [
      "env: NVIDIA_VISIBLE_DEVICES=1\n",
      "env: CUDA_VISIBLE_DEVICES=6\n"
     ]
    }
   ],
   "source": [
    "%env NVIDIA_VISIBLE_DEVICES=1\n",
    "%env CUDA_VISIBLE_DEVICES=6"
   ]
  },
  {
   "cell_type": "code",
   "execution_count": 6,
   "id": "f3a0bda6",
   "metadata": {},
   "outputs": [
    {
     "name": "stdout",
     "output_type": "stream",
     "text": [
      "DATASET_DIR=../kitti_vo_256\r\n",
      "OUTPUT_DIR=vo_results/\r\n",
      "\r\n",
      "if [ -d $OUTPUT_DIR ] \r\n",
      "then\r\n",
      "    rm -rf $OUTPUT_DIR\r\n",
      "else\r\n",
      "    mkdir $OUTPUT_DIR\r\n",
      "fi\r\n",
      "\r\n",
      "POSE_NET=../checkpoints_/coordconv_allrandom_whole/05-23-20:03/exp_pose_model_best.pth.tar\r\n",
      "\r\n",
      "python3 test_vo.py \\\r\n",
      "--img-height 256 --img-width 832 \\\r\n",
      "--sequence 09 \\\r\n",
      "--pretrained-posenet $POSE_NET --dataset-dir $DATASET_DIR --output-dir $OUTPUT_DIR\r\n",
      "\r\n",
      "python3 test_vo.py \\\r\n",
      "--img-height 256 --img-width 832 \\\r\n",
      "--sequence 10 \\\r\n",
      "--pretrained-posenet $POSE_NET --dataset-dir $DATASET_DIR --output-dir $OUTPUT_DIR\r\n",
      "\r\n",
      "python3 eval_odom.py --result=$OUTPUT_DIR --align='7dof'"
     ]
    }
   ],
   "source": [
    "!cat test_kitti_vo.sh"
   ]
  },
  {
   "cell_type": "code",
   "execution_count": 22,
   "id": "0cd97a35",
   "metadata": {},
   "outputs": [],
   "source": [
    "# %env DEBIAN_FRONTEND=\"noninteractive\""
   ]
  },
  {
   "cell_type": "code",
   "execution_count": 12,
   "id": "2e3a90eb",
   "metadata": {},
   "outputs": [
    {
     "name": "stdout",
     "output_type": "stream",
     "text": [
      "^C\r\n"
     ]
    }
   ],
   "source": [
    "! ./test_kitti_vo.sh --yes"
   ]
  },
  {
   "cell_type": "code",
   "execution_count": null,
   "id": "8c995f3c",
   "metadata": {},
   "outputs": [],
   "source": []
  }
 ],
 "metadata": {
  "kernelspec": {
   "display_name": "Python 3",
   "language": "python",
   "name": "python3"
  },
  "language_info": {
   "codemirror_mode": {
    "name": "ipython",
    "version": 3
   },
   "file_extension": ".py",
   "mimetype": "text/x-python",
   "name": "python",
   "nbconvert_exporter": "python",
   "pygments_lexer": "ipython3",
   "version": "3.6.9"
  }
 },
 "nbformat": 4,
 "nbformat_minor": 5
}
