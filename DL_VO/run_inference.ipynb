{
 "cells": [
  {
   "cell_type": "markdown",
   "metadata": {
    "id": "SKIX0rij7pQo"
   },
   "source": [
    "## Download checkpoints + dataset + our github by executing the following cell:"
   ]
  },
  {
   "cell_type": "code",
   "execution_count": 1,
   "metadata": {
    "id": "jng2L9BedHfw"
   },
   "outputs": [],
   "source": [
    "%%capture\n",
    "\n",
    "# Download test dataset\n",
    "!gdown https://drive.google.com/uc?id=103bHsKmckpimezBya4Qc-x6sBphUElCZ\n",
    "\n",
    "#Unzip\n",
    "!unzip kitti_odom_test.zip\n",
    "\n",
    "# Clone the whole repo\n",
    "!git clone https://github.com/scalyvladimir/vo_exploring.git\n",
    "\n",
    "%cd vo_exploring/DL_VO/\n",
    "\n",
    "!pip3 install path\n",
    "\n",
    "import gdown\n",
    "gdown.download_folder(\"https://drive.google.com/drive/folders/1n19LyGnefUL3tn8gYjzSONh1RjNJ_qlI?usp=sharing\")\n",
    "\n",
    "%cd evaluation\n",
    "!cat test_kitti_vo.sh"
   ]
  },
  {
   "cell_type": "markdown",
   "metadata": {
    "id": "PRhXg6hV7Sg5"
   },
   "source": [
    "## Here you should see all downloaded checkpoints, pick one of the dirs below:"
   ]
  },
  {
   "cell_type": "code",
   "execution_count": 2,
   "metadata": {
    "colab": {
     "base_uri": "https://localhost:8080/"
    },
    "id": "rqNe0unTGnNS",
    "outputId": "28b4dfe3-cf21-4be6-a4c4-1917765e79bd"
   },
   "outputs": [
    {
     "name": "stdout",
     "output_type": "stream",
     "text": [
      "coordconv_allrandom_first_all  coordconv_zeros_first_all\n",
      "coordconv_random_whole\n"
     ]
    }
   ],
   "source": [
    "!ls ../checkpoints_"
   ]
  },
  {
   "cell_type": "code",
   "execution_count": 6,
   "metadata": {
    "colab": {
     "base_uri": "https://localhost:8080/"
    },
    "id": "h-ArA4CtQTzb",
    "outputId": "fd4cc002-4683-400a-efa8-f2aad2895d24"
   },
   "outputs": [
    {
     "name": "stdout",
     "output_type": "stream",
     "text": [
      "poses  sequences\n"
     ]
    }
   ],
   "source": [
    "!ls ../../../kitti_odom_test"
   ]
  },
  {
   "cell_type": "markdown",
   "metadata": {
    "id": "14RmB1Sh7eYC"
   },
   "source": [
    "## Specify its name below to input it as argument to `test_kitti_vo.sh`:"
   ]
  },
  {
   "cell_type": "code",
   "execution_count": 11,
   "metadata": {
    "colab": {
     "base_uri": "https://localhost:8080/"
    },
    "id": "WgGK-3pMYkVl",
    "outputId": "b40019f1-44fa-48b3-8b8c-74c4611eb20e"
   },
   "outputs": [
    {
     "name": "stdout",
     "output_type": "stream",
     "text": [
      "DATASET_DIR=../../../kitti_odom_test/sequences/\n",
      "OUTPUT_DIR=vo_results/\n",
      "\n",
      "if [ -d $OUTPUT_DIR ] \n",
      "then\n",
      "    rm -rf $OUTPUT_DIR\n",
      "else\n",
      "    mkdir $OUTPUT_DIR\n",
      "fi\n",
      "\n",
      "POSE_NET=../checkpoints_/$1/exp_pose_model_best.pth.tar\n",
      "\n",
      "python3 test_vo.py \\\n",
      "--img-height 256 --img-width 832 \\\n",
      "--sequence 09 \\\n",
      "--pretrained-posenet $POSE_NET --dataset-dir $DATASET_DIR --output-dir $OUTPUT_DIR\n",
      "\n",
      "python3 test_vo.py \\\n",
      "--img-height 256 --img-width 832 \\\n",
      "--sequence 10 \\\n",
      "--pretrained-posenet $POSE_NET --dataset-dir $DATASET_DIR --output-dir $OUTPUT_DIR\n",
      "\n",
      "python3 eval_odom.py --result=$OUTPUT_DIR --align='7dof'"
     ]
    }
   ],
   "source": [
    "!cat ./test_kitti_vo.sh coordconv_zeros_first_all"
   ]
  },
  {
   "cell_type": "code",
   "execution_count": 59,
   "metadata": {
    "colab": {
     "base_uri": "https://localhost:8080/"
    },
    "id": "3oJYnQRWEu97",
    "outputId": "74ef96ba-25af-4830-8f73-bd4b9f80eeb6"
   },
   "outputs": [
    {
     "name": "stdout",
     "output_type": "stream",
     "text": [
      "1591 files to test\n",
      "100% 1590/1590 [03:44<00:00,  7.08it/s]\n",
      "./test_kitti_vo.sh: line 17: IR: command not found\n",
      "1201 files to test\n",
      "100% 1200/1200 [02:51<00:00,  7.00it/s]\n",
      "Sequence: 9\n",
      "Translational error (%):  133.558238008971\n",
      "Rotational error (deg/100m):  15.730239502441357\n",
      "ATE (m):  118.12106238217191\n",
      "RPE (m):  2.0177356900832724\n",
      "RPE (deg):  0.40667851891186757\n",
      "\n",
      "Sequence: 10\n",
      "Translational error (%):  162.54816408215234\n",
      "Rotational error (deg/100m):  18.52332454201032\n",
      "ATE (m):  97.98799207795315\n",
      "RPE (m):  1.6336454783713734\n",
      "RPE (deg):  0.3383493297263726\n",
      "\n",
      "-------------------- For Copying ------------------------------\n",
      "133.56\n",
      "15.73\n",
      "118.12\n",
      "2.018\n",
      "0.407\n",
      "\n",
      "162.55\n",
      "18.52\n",
      "97.99\n",
      "1.634\n",
      "0.338\n",
      "\n"
     ]
    }
   ],
   "source": [
    "! ./test_kitti_vo.sh"
   ]
  },
  {
   "cell_type": "code",
   "execution_count": 43,
   "metadata": {
    "id": "7JUgIRwoEyfX"
   },
   "outputs": [],
   "source": [
    ""
   ]
  }
 ],
 "metadata": {
  "accelerator": "GPU",
  "colab": {
   "collapsed_sections": [],
   "name": "run_inference.ipynb",
   "provenance": []
  },
  "kernelspec": {
   "display_name": "Python 3",
   "name": "python3"
  },
  "language_info": {
   "name": "python"
  }
 },
 "nbformat": 4,
 "nbformat_minor": 0
}
