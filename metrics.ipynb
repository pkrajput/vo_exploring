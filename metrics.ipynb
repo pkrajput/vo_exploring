{
 "cells": [
  {
   "cell_type": "markdown",
   "metadata": {},
   "source": [
    "# Metrics\n",
    "\n",
    "* command line executables: see README.md (evo\\Readme.md)\n",
    "* algorithm documentation: [metrics.py API & Algorithm Documentation](evo\\notebooks\\metrics.py_API_Documentation.ipynb)"
   ]
  },
  {
   "cell_type": "markdown",
   "metadata": {
    "slideshow": {
     "slide_type": "fragment"
    }
   },
   "source": [
    "...some modules and settings for this demo:"
   ]
  },
  {
   "cell_type": "code",
   "execution_count": 1,
   "metadata": {},
   "outputs": [],
   "source": [
    "# launch cell to install evo\n",
    "# !pip3 install evo --upgrade --no-binary evo"
   ]
  },
  {
   "cell_type": "code",
   "execution_count": 19,
   "metadata": {
    "scrolled": true,
    "slideshow": {
     "slide_type": "fragment"
    }
   },
   "outputs": [],
   "source": [
    "from evo.tools import log\n",
    "log.configure_logging()"
   ]
  },
  {
   "cell_type": "code",
   "execution_count": 20,
   "metadata": {},
   "outputs": [],
   "source": [
    "from evo.tools import plot\n",
    "from evo.tools.plot import PlotMode\n",
    "from evo.core.metrics import PoseRelation, Unit\n",
    "from evo.tools.settings import SETTINGS\n",
    "\n",
    "# temporarily override some package settings\n",
    "SETTINGS.plot_figsize = [6, 6]\n",
    "SETTINGS.plot_split = True\n",
    "SETTINGS.plot_usetex = False\n",
    "\n",
    "# magic plot configuration\n",
    "import matplotlib.pyplot as plt\n",
    "%matplotlib inline\n",
    "%matplotlib notebook"
   ]
  },
  {
   "cell_type": "markdown",
   "metadata": {},
   "source": [
    "#### Console command info"
   ]
  },
  {
   "cell_type": "code",
   "execution_count": 21,
   "metadata": {},
   "outputs": [
    {
     "name": "stdout",
     "output_type": "stream",
     "text": [
      "usage: evo_ape tum [-h]\n",
      "                   [-r {full,trans_part,rot_part,angle_deg,angle_rad,point_distance}]\n",
      "                   [-a] [-s] [--n_to_align N_TO_ALIGN] [--align_origin] [-p]\n",
      "                   [--plot_mode {xy,xz,yx,yz,zx,zy,xyz}]\n",
      "                   [--plot_x_dimension {index,seconds,distances}]\n",
      "                   [--plot_colormap_max PLOT_COLORMAP_MAX]\n",
      "                   [--plot_colormap_min PLOT_COLORMAP_MIN]\n",
      "                   [--plot_colormap_max_percentile PLOT_COLORMAP_MAX_PERCENTILE]\n",
      "                   [--plot_full_ref] [--ros_map_yaml ROS_MAP_YAML]\n",
      "                   [--save_plot SAVE_PLOT] [--serialize_plot SERIALIZE_PLOT]\n",
      "                   [--save_results SAVE_RESULTS] [--logfile LOGFILE]\n",
      "                   [--no_warnings] [-v] [--silent] [--debug] [-c CONFIG]\n",
      "                   [--t_max_diff T_MAX_DIFF] [--t_offset T_OFFSET]\n",
      "                   [--t_start T_START] [--t_end T_END]\n",
      "                   ref_file est_file\n",
      "\n",
      "Absolute pose error (APE) metric app for TUM trajectory files - (c) evo\n",
      "authors\n",
      "\n",
      "positional arguments:\n",
      "  ref_file              reference trajectory file\n",
      "  est_file              estimated trajectory file\n",
      "\n",
      "options:\n",
      "  -h, --help            show this help message and exit\n",
      "  --t_max_diff T_MAX_DIFF\n",
      "                        maximum timestamp difference for data association\n",
      "  --t_offset T_OFFSET   constant timestamp offset for data association\n",
      "  --t_start T_START     only use data with timestamps greater or equal this\n",
      "                        start time\n",
      "  --t_end T_END         only use data with timestamps less or equal this end\n",
      "                        time\n",
      "\n",
      "algorithm options:\n",
      "  -r {full,trans_part,rot_part,angle_deg,angle_rad,point_distance}, --pose_relation {full,trans_part,rot_part,angle_deg,angle_rad,point_distance}\n",
      "                        pose relation on which the APE is based\n",
      "  -a, --align           alignment with Umeyama's method (no scale)\n",
      "  -s, --correct_scale   correct scale with Umeyama's method\n",
      "  --n_to_align N_TO_ALIGN\n",
      "                        the number of poses to use for Umeyama alignment,\n",
      "                        counted from the start (default: all)\n",
      "  --align_origin        align the trajectory origin to the origin of the\n",
      "                        reference trajectory\n",
      "\n",
      "output options:\n",
      "  -p, --plot            show plot window\n",
      "  --plot_mode {xy,xz,yx,yz,zx,zy,xyz}\n",
      "                        the axes for plot projection\n",
      "  --plot_x_dimension {index,seconds,distances}\n",
      "                        dimension that is used on the x-axis of the raw value\n",
      "                        plot(default: seconds, or index if no timestamps are\n",
      "                        present)\n",
      "  --plot_colormap_max PLOT_COLORMAP_MAX\n",
      "                        the upper bound used for the color map plot (default:\n",
      "                        maximum error value)\n",
      "  --plot_colormap_min PLOT_COLORMAP_MIN\n",
      "                        the lower bound used for the color map plot (default:\n",
      "                        minimum error value)\n",
      "  --plot_colormap_max_percentile PLOT_COLORMAP_MAX_PERCENTILE\n",
      "                        percentile of the error distribution to be used as the\n",
      "                        upper bound of the color map plot (in %, overrides\n",
      "                        --plot_colormap_max)\n",
      "  --plot_full_ref       plot the full, unsynchronized reference trajectory\n",
      "  --ros_map_yaml ROS_MAP_YAML\n",
      "                        yaml file of an ROS 2D map image (.pgm/.png) that will\n",
      "                        be drawn into the plot\n",
      "  --save_plot SAVE_PLOT\n",
      "                        path to save plot\n",
      "  --serialize_plot SERIALIZE_PLOT\n",
      "                        path to serialize plot (experimental)\n",
      "  --save_results SAVE_RESULTS\n",
      "                        .zip file path to store results\n",
      "  --logfile LOGFILE     Local logfile path.\n",
      "\n",
      "usability options:\n",
      "  --no_warnings         no warnings requiring user confirmation\n",
      "  -v, --verbose         verbose output\n",
      "  --silent              don't print any output\n",
      "  --debug               verbose output with additional debug info\n",
      "  -c CONFIG, --config CONFIG\n",
      "                        .json file with parameters (priority over command line\n",
      "                        args)\n"
     ]
    }
   ],
   "source": [
    "!evo_ape tum --help"
   ]
  },
  {
   "cell_type": "markdown",
   "metadata": {},
   "source": [
    "### KITTI"
   ]
  },
  {
   "cell_type": "code",
   "execution_count": 47,
   "metadata": {},
   "outputs": [],
   "source": [
    "seq = '10' # ['08', '09', '10']\n",
    "compare_to = 'original' # ['original', 'deblurred_seg', 'deblurred']"
   ]
  },
  {
   "cell_type": "code",
   "execution_count": 48,
   "metadata": {
    "scrolled": true
   },
   "outputs": [],
   "source": [
    "# convert from kitti to tum\n",
    "!python evo\\contrib\\kitti_poses_and_timestamps_to_trajectory.py \\\n",
    "sequences\\Kitti\\seq{seq}\\kitti_odometry_color_sequences_{seq}_groundtruth.txt \\\n",
    "sequences\\Kitti\\seq{seq}\\times_{seq}.txt \\\n",
    "sequences\\Kitti\\seq{seq}\\kitti_tum_{seq}.txt"
   ]
  },
  {
   "cell_type": "code",
   "execution_count": 54,
   "metadata": {},
   "outputs": [
    {
     "name": "stdout",
     "output_type": "stream",
     "text": [
      "--------------------------------------------------------------------------------\n",
      "name:\tkitti_odometry_color_sequences_10_original\n",
      "infos:\t554 poses, 15.332m path length, 124.494s duration\n",
      "--------------------------------------------------------------------------------\n",
      "name:\tkitti_odometry_color_sequences_10_deblurred\n",
      "infos:\t563 poses, 23.250m path length, 124.287s duration\n",
      "--------------------------------------------------------------------------------\n",
      "name:\tkitti_tum_10\n",
      "infos:\t1201 poses, 919.518m path length, 124.494s duration\n"
     ]
    }
   ],
   "source": [
    "# plot trajectories\n",
    "!evo_traj tum \\\n",
    "sequences\\Kitti\\seq{seq}\\kitti_odometry_color_sequences_{seq}_original.txt \\\n",
    "sequences\\Kitti\\seq{seq}\\kitti_odometry_color_sequences_{seq}_deblurred.txt \\\n",
    "--ref=sequences\\Kitti\\seq{seq}\\kitti_tum_{seq}.txt \\\n",
    "--align --correct_scale \\\n",
    "-p --plot_mode=xz"
   ]
  },
  {
   "cell_type": "code",
   "execution_count": 53,
   "metadata": {},
   "outputs": [
    {
     "name": "stdout",
     "output_type": "stream",
     "text": [
      "APE w.r.t. translation part (m)\n",
      "(with Sim(3) Umeyama alignment)\n",
      "\n",
      "       max\t9.413822\n",
      "      mean\t3.502739\n",
      "    median\t3.008428\n",
      "       min\t0.845202\n",
      "      rmse\t4.058100\n",
      "       sse\t9123.371061\n",
      "       std\t2.049146\n",
      "\n"
     ]
    }
   ],
   "source": [
    "# get matrics and plots (APE translation part)\n",
    "!evo_ape tum \\\n",
    "sequences\\Kitti\\seq{seq}\\kitti_tum_{seq}.txt \\\n",
    "sequences\\Kitti\\seq{seq}\\kitti_odometry_color_sequences_{seq}_{compare_to}.txt \\\n",
    "-r trans_part \\\n",
    "--align --correct_scale"
   ]
  },
  {
   "cell_type": "code",
   "execution_count": 148,
   "metadata": {},
   "outputs": [
    {
     "name": "stdout",
     "output_type": "stream",
     "text": [
      "RPE w.r.t. translation part (m)\n",
      "for delta = 1 (frames) using consecutive pairs\n",
      "(with Sim(3) Umeyama alignment)\n",
      "\n",
      "       max\t1.445767\n",
      "      mean\t0.499967\n",
      "    median\t0.407845\n",
      "       min\t0.194804\n",
      "      rmse\t0.566055\n",
      "       sse\t7.049202\n",
      "       std\t0.265427\n",
      "\n"
     ]
    }
   ],
   "source": [
    "# get matrics and plots (RPE translation part)\n",
    "!evo_rpe tum \\\n",
    "sequences\\Kitti\\seq{seq}\\kitti_tum_{seq}.txt \\\n",
    "sequences\\Kitti\\seq{seq}\\kitti_odometry_color_sequences_{seq}_{compare_to}.txt \\\n",
    "-r trans_part \\\n",
    "--align --correct_scale"
   ]
  },
  {
   "cell_type": "code",
   "execution_count": 149,
   "metadata": {},
   "outputs": [
    {
     "name": "stdout",
     "output_type": "stream",
     "text": [
      "RPE w.r.t. rotation angle in degrees (deg)\n",
      "for delta = 1 (frames) using consecutive pairs\n",
      "(with Sim(3) Umeyama alignment)\n",
      "\n",
      "       max\t0.137238\n",
      "      mean\t0.047745\n",
      "    median\t0.039147\n",
      "       min\t0.012142\n",
      "      rmse\t0.056375\n",
      "       sse\t0.069919\n",
      "       std\t0.029976\n",
      "\n"
     ]
    }
   ],
   "source": [
    "# get matrics and plots (RPE rotation angle in degrees)\n",
    "!evo_rpe tum \\\n",
    "sequences\\Kitti\\seq{seq}\\kitti_tum_{seq}.txt \\\n",
    "sequences\\Kitti\\seq{seq}\\kitti_odometry_color_sequences_{seq}_{compare_to}.txt \\\n",
    "-r angle_deg \\\n",
    "--align --correct_scale"
   ]
  },
  {
   "cell_type": "markdown",
   "metadata": {},
   "source": [
    "### TUM"
   ]
  },
  {
   "cell_type": "code",
   "execution_count": 41,
   "metadata": {},
   "outputs": [],
   "source": [
    "seq = 'freiburg3_long_office_household' # ['freiburg1_rpy', 'freiburg1_xyz', 'freiburg3_long_office_household']\n",
    "compare_to = 'deblurred_seg' # ['original', 'original_seg', 'deblurred', 'deblurred_seg']"
   ]
  },
  {
   "cell_type": "code",
   "execution_count": 44,
   "metadata": {},
   "outputs": [
    {
     "name": "stdout",
     "output_type": "stream",
     "text": [
      "usage: evo_traj tum [-h] [-f] [-a] [-s] [--n_to_align N_TO_ALIGN]\n",
      "                    [--align_origin] [--sync]\n",
      "                    [--transform_left TRANSFORM_LEFT]\n",
      "                    [--transform_right TRANSFORM_RIGHT]\n",
      "                    [--propagate_transform] [--invert_transform] [--ref REF]\n",
      "                    [--t_offset T_OFFSET] [--t_max_diff T_MAX_DIFF] [--merge]\n",
      "                    [-p] [--plot_relative_time]\n",
      "                    [--plot_mode {xy,xz,yx,yz,zx,zy,xyz}]\n",
      "                    [--ros_map_yaml ROS_MAP_YAML] [--save_plot SAVE_PLOT]\n",
      "                    [--save_table SAVE_TABLE]\n",
      "                    [--serialize_plot SERIALIZE_PLOT] [--save_as_tum]\n",
      "                    [--save_as_kitti] [--save_as_bag] [--save_as_bag2]\n",
      "                    [--logfile LOGFILE] [--no_warnings] [-v]\n",
      "                    [--show_full_names] [--silent] [--debug] [-c CONFIG]\n",
      "                    traj_files [traj_files ...]\n",
      "\n",
      "trajectory analysis and manipulation tool for TUM trajectory files - (c) evo\n",
      "authors\n",
      "\n",
      "positional arguments:\n",
      "  traj_files            one or multiple trajectory files\n",
      "\n",
      "options:\n",
      "  -h, --help            show this help message and exit\n",
      "  -f, --full_check      run all checks and print all stats\n",
      "\n",
      "algorithm options:\n",
      "  -a, --align           alignment with Umeyama's method (no scale) - requires\n",
      "                        --ref\n",
      "  -s, --correct_scale   scale correction with Umeyama's method - requires\n",
      "                        --ref\n",
      "  --n_to_align N_TO_ALIGN\n",
      "                        the number of poses to use for Umeyama alignment,\n",
      "                        counted from the start (default: all)\n",
      "  --align_origin        align the trajectory origin to the origin of the\n",
      "                        reference trajectory\n",
      "  --sync                associate trajectories via matching timestamps -\n",
      "                        requires --ref\n",
      "  --transform_left TRANSFORM_LEFT\n",
      "                        path to a .json file with a transformation to apply to\n",
      "                        the trajectories (left multiplicative)\n",
      "  --transform_right TRANSFORM_RIGHT\n",
      "                        path to a .json file with a transformation to apply to\n",
      "                        the trajectories (right_multiplicative)\n",
      "  --propagate_transform\n",
      "                        with --transform_right: transform each pose and\n",
      "                        propagate resulting drift to the next.\n",
      "  --invert_transform    invert the transformation of the .json file\n",
      "  --ref REF             trajectory that will be marked/used as the reference\n",
      "  --t_offset T_OFFSET   add a constant timestamp offset (not adding to --ref\n",
      "                        trajectory)\n",
      "  --t_max_diff T_MAX_DIFF\n",
      "                        maximum timestamp difference for data association\n",
      "  --merge               merge the trajectories in a single trajectory\n",
      "\n",
      "output options:\n",
      "  -p, --plot            show plot window\n",
      "  --plot_relative_time  show timestamps relative to the start of the reference\n",
      "  --plot_mode {xy,xz,yx,yz,zx,zy,xyz}\n",
      "                        the axes for plot projection\n",
      "  --ros_map_yaml ROS_MAP_YAML\n",
      "                        yaml file of an ROS 2D map image (.pgm/.png) that will\n",
      "                        be drawn into the plot\n",
      "  --save_plot SAVE_PLOT\n",
      "                        path to save plot\n",
      "  --save_table SAVE_TABLE\n",
      "                        path to save table with statistics\n",
      "  --serialize_plot SERIALIZE_PLOT\n",
      "                        path to serialize plot (experimental)\n",
      "  --save_as_tum         save trajectories in TUM format (as *.tum)\n",
      "  --save_as_kitti       save poses in KITTI format (as *.kitti)\n",
      "  --save_as_bag         save trajectories in ROS bag as <date>.bag\n",
      "  --save_as_bag2        save trajectories in ROS2 bag as <date>\n",
      "  --logfile LOGFILE     Local logfile path.\n",
      "\n",
      "usability options:\n",
      "  --no_warnings         no warnings requiring user confirmation\n",
      "  -v, --verbose         verbose output\n",
      "  --show_full_names     don't shorten input file paths when displaying\n",
      "                        trajectory names\n",
      "  --silent              don't print any output\n",
      "  --debug               verbose output with additional debug info\n",
      "  -c CONFIG, --config CONFIG\n",
      "                        .json file with parameters (priority over command line\n",
      "                        args)\n"
     ]
    }
   ],
   "source": [
    "!evo_traj tum -h"
   ]
  },
  {
   "cell_type": "code",
   "execution_count": 46,
   "metadata": {},
   "outputs": [
    {
     "name": "stdout",
     "output_type": "stream",
     "text": [
      "--------------------------------------------------------------------------------"
     ]
    },
    {
     "name": "stderr",
     "output_type": "stream",
     "text": [
      "2022-05-27T15:54:16.290ZE [8460:ShellIpcClient] shell_ipc_client.cc:129:Connect Can't connect to socket at: \\\\.\\Pipe\\GoogleDriveFSPipe_botva_shell"
     ]
    },
    {
     "name": "stdout",
     "output_type": "stream",
     "text": [
      "\n",
      "name:\trgbd_dataset_freiburg3_long_office_household_original"
     ]
    },
    {
     "name": "stderr",
     "output_type": "stream",
     "text": [
      "\n"
     ]
    },
    {
     "name": "stdout",
     "output_type": "stream",
     "text": [
      "\n",
      "infos:\t182 poses, 21.521m path length, 85.596s duration\n"
     ]
    },
    {
     "name": "stderr",
     "output_type": "stream",
     "text": [
      "2022-05-27T15:54:16.292ZE [8460:ShellIpcClient] shell_ipc_client.cc:602:operator() Failed to connect to the server: Status::UNAVAILABLE_RESOURCE"
     ]
    },
    {
     "name": "stdout",
     "output_type": "stream",
     "text": [
      "--------------------------------------------------------------------------------\n",
      "name:\trgbd_dataset_freiburg3_long_office_household_original_seg\n",
      "infos:\t192 poses, 21.715m path length, 86.136s duration\n",
      "--------------------------------------------------------------------------------\n",
      "name:\trgbd_dataset_freiburg3_long_office_household_deblurred\n",
      "infos:\t184 poses, 21.653m path length, 85.964s duration\n",
      "--------------------------------------------------------------------------------\n",
      "name:\trgbd_dataset_freiburg3_long_office_household_deblurred_seg\n",
      "infos:\t183 poses, 21.738m path length, 86.332s duration"
     ]
    },
    {
     "name": "stderr",
     "output_type": "stream",
     "text": [
      "\n"
     ]
    },
    {
     "name": "stdout",
     "output_type": "stream",
     "text": [
      "\n"
     ]
    },
    {
     "name": "stderr",
     "output_type": "stream",
     "text": [
      "2022-05-27T15:54:16.292ZE [7024:ShellIpcClient] shell_ipc_client.cc:129:Connect Can't connect to socket at: \\\\.\\Pipe\\GoogleDriveFSPipe_botva_shell"
     ]
    },
    {
     "name": "stdout",
     "output_type": "stream",
     "text": [
      "--------------------------------------------------------------------------------\n",
      "name:\trgbd_dataset_freiburg3_long_office_household_groundtruth\n",
      "infos:\t8710 poses, 22.197m path length, 87.089s duration"
     ]
    },
    {
     "name": "stderr",
     "output_type": "stream",
     "text": [
      "\n"
     ]
    },
    {
     "name": "stdout",
     "output_type": "stream",
     "text": [
      "\n"
     ]
    },
    {
     "name": "stderr",
     "output_type": "stream",
     "text": [
      "2022-05-27T15:54:16.292ZE [7024:ShellIpcClient] shell_ipc_client.cc:602:operator() Failed to connect to the server: Status::UNAVAILABLE_RESOURCE\n",
      "2022-05-27T15:54:16.292ZE [5672:ShellIpcClient] shell_ipc_client.cc:129:Connect Can't connect to socket at: \\\\.\\Pipe\\GoogleDriveFSPipe_botva_shell\n",
      "2022-05-27T15:54:16.292ZE [5672:ShellIpcClient] shell_ipc_client.cc:602:operator() Failed to connect to the server: Status::UNAVAILABLE_RESOURCE\n",
      "2022-05-27T15:54:16.293ZE [8460:ShellIpcClient] shell_ipc_client.cc:129:Connect Can't connect to socket at: \\\\.\\Pipe\\GoogleDriveFSPipe_botva_shell\n",
      "2022-05-27T15:54:16.293ZE [8460:ShellIpcClient] shell_ipc_client.cc:602:operator() Failed to connect to the server: Status::UNAVAILABLE_RESOURCE\n",
      "2022-05-27T15:54:16.293ZE [7024:ShellIpcClient] shell_ipc_client.cc:129:Connect Can't connect to socket at: \\\\.\\Pipe\\GoogleDriveFSPipe_botva_shell\n",
      "2022-05-27T15:54:16.293ZE [7024:ShellIpcClient] shell_ipc_client.cc:602:operator() Failed to connect to the server: Status::UNAVAILABLE_RESOURCE\n",
      "2022-05-27T15:54:16.293ZE [8460:ShellIpcClient] shell_ipc_client.cc:129:Connect Can't connect to socket at: \\\\.\\Pipe\\GoogleDriveFSPipe_botva_shell\n",
      "2022-05-27T15:54:16.293ZE [8460:ShellIpcClient] shell_ipc_client.cc:602:operator() Failed to connect to the server: Status::UNAVAILABLE_RESOURCE\n",
      "2022-05-27T15:54:16.293ZE [5672:ShellIpcClient] shell_ipc_client.cc:129:Connect Can't connect to socket at: \\\\.\\Pipe\\GoogleDriveFSPipe_botva_shell\n",
      "2022-05-27T15:54:16.293ZE [5672:ShellIpcClient] shell_ipc_client.cc:602:operator() Failed to connect to the server: Status::UNAVAILABLE_RESOURCE\n",
      "2022-05-27T15:54:16.293ZE [7024:ShellIpcClient] shell_ipc_client.cc:129:Connect Can't connect to socket at: \\\\.\\Pipe\\GoogleDriveFSPipe_botva_shell\n",
      "2022-05-27T15:54:16.293ZE [7024:ShellIpcClient] shell_ipc_client.cc:602:operator() Failed to connect to the server: Status::UNAVAILABLE_RESOURCE\n",
      "2022-05-27T15:54:16.293ZE [5672:ShellIpcClient] shell_ipc_client.cc:129:Connect Can't connect to socket at: \\\\.\\Pipe\\GoogleDriveFSPipe_botva_shell\n",
      "2022-05-27T15:54:16.293ZE [5672:ShellIpcClient] shell_ipc_client.cc:602:operator() Failed to connect to the server: Status::UNAVAILABLE_RESOURCE\n",
      "2022-05-27T15:55:35.999ZE [8460:ShellIpcClient] shell_ipc_client.cc:129:Connect Can't connect to socket at: \\\\.\\Pipe\\GoogleDriveFSPipe_botva_shell\n",
      "2022-05-27T15:55:36.000ZE [8460:ShellIpcClient] shell_ipc_client.cc:602:operator() Failed to connect to the server: Status::UNAVAILABLE_RESOURCE\n",
      "2022-05-27T15:55:36.000ZE [7024:ShellIpcClient] shell_ipc_client.cc:129:Connect Can't connect to socket at: \\\\.\\Pipe\\GoogleDriveFSPipe_botva_shell\n",
      "2022-05-27T15:55:36.000ZE [7024:ShellIpcClient] shell_ipc_client.cc:602:operator() Failed to connect to the server: Status::UNAVAILABLE_RESOURCE\n",
      "2022-05-27T15:55:36.000ZE [5672:ShellIpcClient] shell_ipc_client.cc:129:Connect Can't connect to socket at: \\\\.\\Pipe\\GoogleDriveFSPipe_botva_shell\n",
      "2022-05-27T15:55:36.000ZE [5672:ShellIpcClient] shell_ipc_client.cc:602:operator() Failed to connect to the server: Status::UNAVAILABLE_RESOURCE\n"
     ]
    }
   ],
   "source": [
    "# plot trajectories\n",
    "!evo_traj tum \\\n",
    "sequences\\TUM-rgbd\\rgbd_dataset_{seq}\\rgbd_dataset_{seq}_original.txt \\\n",
    "sequences\\TUM-rgbd\\rgbd_dataset_{seq}\\rgbd_dataset_{seq}_original_seg.txt \\\n",
    "sequences\\TUM-rgbd\\rgbd_dataset_{seq}\\rgbd_dataset_{seq}_deblurred.txt \\\n",
    "sequences\\TUM-rgbd\\rgbd_dataset_{seq}\\rgbd_dataset_{seq}_deblurred_seg.txt \\\n",
    "--ref=sequences\\TUM-rgbd\\rgbd_dataset_{seq}\\rgbd_dataset_{seq}_groundtruth.txt \\\n",
    "--align --correct_scale \\\n",
    "-p --plot_mode=xyz"
   ]
  },
  {
   "cell_type": "code",
   "execution_count": 16,
   "metadata": {
    "scrolled": true
   },
   "outputs": [
    {
     "name": "stdout",
     "output_type": "stream",
     "text": [
      "--------------------------------------------------------------------------------\n",
      "Loaded 2742 stamps and poses from: sequences\\TUM-rgbd\\rgbd_dataset_freiburg1_rpy\\rgbd_dataset_freiburg1_rpy_groundtruth.txt\n",
      "Loaded 19 stamps and poses from: sequences\\TUM-rgbd\\rgbd_dataset_freiburg1_rpy\\rgbd_dataset_freiburg1_rpy_deblurred_seg.txt\n",
      "--------------------------------------------------------------------------------\n",
      "Synchronizing trajectories...\n",
      "Found 19 of max. 19 possible matching timestamps between...\n",
      "\tsequences\\TUM-rgbd\\rgbd_dataset_freiburg1_rpy\\rgbd_dataset_freiburg1_rpy_groundtruth.txt\n",
      "and:\tsequences\\TUM-rgbd\\rgbd_dataset_freiburg1_rpy\\rgbd_dataset_freiburg1_rpy_deblurred_seg.txt\n",
      "..with max. time diff.: 0.01 (s) and time offset: 0.0 (s).\n",
      "--------------------------------------------------------------------------------\n",
      "Aligning using Umeyama's method... (with scale correction)\n",
      "Rotation of alignment:\n",
      "[[ 0.23087564  0.07212472 -0.97030638]\n",
      " [-0.76806539  0.6257101  -0.136244  ]\n",
      " [ 0.59730394  0.77671416  0.19985772]]\n",
      "Translation of alignment:\n",
      "[1.31003694 0.61295368 1.5087276 ]\n",
      "Scale correction: 12.474718905760913\n",
      "--------------------------------------------------------------------------------\n",
      "Compared 19 absolute pose pairs.\n",
      "Calculating APE for translation part pose relation...\n",
      "--------------------------------------------------------------------------------\n",
      "APE w.r.t. translation part (m)\n",
      "(with Sim(3) Umeyama alignment)\n",
      "\n",
      "       max\t0.032197\n",
      "      mean\t0.018613\n",
      "    median\t0.018426\n",
      "       min\t0.005960\n",
      "      rmse\t0.019796\n",
      "       sse\t0.007446\n",
      "       std\t0.006742\n",
      "\n",
      "--------------------------------------------------------------------------------\n",
      "Plotting results... \n"
     ]
    }
   ],
   "source": [
    "# get matrics and plots (APE translation part)\n",
    "!evo_ape tum \\\n",
    "sequences\\TUM-rgbd\\rgbd_dataset_{seq}\\rgbd_dataset_{seq}_groundtruth.txt \\\n",
    "sequences\\TUM-rgbd\\rgbd_dataset_{seq}\\rgbd_dataset_{seq}_{compare_to}.txt \\\n",
    "-r trans_part \\\n",
    "--align --correct_scale \\\n",
    "-v --plot --plot_mode=xyz"
   ]
  },
  {
   "cell_type": "code",
   "execution_count": 18,
   "metadata": {
    "scrolled": false
   },
   "outputs": [
    {
     "name": "stdout",
     "output_type": "stream",
     "text": [
      "RPE w.r.t. translation part (m)\n",
      "for delta = 1 (frames) using consecutive pairs\n",
      "(with Sim(3) Umeyama alignment)\n",
      "\n",
      "       max\t0.181874\n",
      "      mean\t0.065011\n",
      "    median\t0.058399\n",
      "       min\t0.003358\n",
      "      rmse\t0.079002\n",
      "       sse\t0.112344\n",
      "       std\t0.044888\n",
      "\n"
     ]
    }
   ],
   "source": [
    "# get matrics and plots (RPE translation part)\n",
    "!evo_rpe tum \\\n",
    "sequences\\TUM-rgbd\\rgbd_dataset_{seq}\\rgbd_dataset_{seq}_groundtruth.txt \\\n",
    "sequences\\TUM-rgbd\\rgbd_dataset_{seq}\\rgbd_dataset_{seq}_{compare_to}.txt \\\n",
    "-r trans_part \\\n",
    "--align --correct_scale"
   ]
  },
  {
   "cell_type": "code",
   "execution_count": null,
   "metadata": {},
   "outputs": [],
   "source": [
    "# get matrics and plots (RPE rotation angle in degrees)\n",
    "!evo_rpe tum \\\n",
    "sequences\\TUM-rgbd\\rgbd_dataset_{seq}\\rgbd_dataset_{seq}_groundtruth.txt \\\n",
    "sequences\\TUM-rgbd\\rgbd_dataset_{seq}\\rgbd_dataset_{seq}_{compare_to}.txt \\\n",
    "-r angle_deg \\\n",
    "--align --correct_scale"
   ]
  },
  {
   "cell_type": "code",
   "execution_count": null,
   "metadata": {},
   "outputs": [],
   "source": []
  }
 ],
 "metadata": {
  "interpreter": {
   "hash": "251bd1fb4f09bfaabdf7a6781ef96a845a1f949aa3c763d6d27821737351635a"
  },
  "kernelspec": {
   "display_name": "Python 3 (ipykernel)",
   "language": "python",
   "name": "python3"
  },
  "language_info": {
   "codemirror_mode": {
    "name": "ipython",
    "version": 3
   },
   "file_extension": ".py",
   "mimetype": "text/x-python",
   "name": "python",
   "nbconvert_exporter": "python",
   "pygments_lexer": "ipython3",
   "version": "3.10.0"
  },
  "widgets": {
   "state": {
    "54cc6cb1d20f45438fb3663d98d29406": {
     "views": [
      {
       "cell_index": 21
      }
     ]
    },
    "88c180f9f59147a592d738936cecf614": {
     "views": [
      {
       "cell_index": 16
      }
     ]
    }
   },
   "version": "1.2.0"
  }
 },
 "nbformat": 4,
 "nbformat_minor": 1
}
