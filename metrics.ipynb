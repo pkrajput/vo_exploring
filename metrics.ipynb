{
 "cells": [
  {
   "cell_type": "markdown",
   "metadata": {},
   "source": [
    "# Metrics\n",
    "\n",
    "* command line executables: see README.md (evo\\Readme.md)\n",
    "* algorithm documentation: [metrics.py API & Algorithm Documentation](evo\\notebooks\\metrics.py_API_Documentation.ipynb)"
   ]
  },
  {
   "cell_type": "markdown",
   "metadata": {
    "slideshow": {
     "slide_type": "fragment"
    }
   },
   "source": [
    "...some modules and settings for this demo:"
   ]
  },
  {
   "cell_type": "code",
   "execution_count": null,
   "metadata": {},
   "outputs": [],
   "source": [
    "# launch cell to install evo\n",
    "# !pip3 install evo --upgrade --no-binary evo"
   ]
  },
  {
   "cell_type": "code",
   "execution_count": 1,
   "metadata": {
    "scrolled": true,
    "slideshow": {
     "slide_type": "fragment"
    }
   },
   "outputs": [],
   "source": [
    "from evo.tools import log\n",
    "log.configure_logging()"
   ]
  },
  {
   "cell_type": "code",
   "execution_count": 2,
   "metadata": {},
   "outputs": [],
   "source": [
    "from evo.tools import plot\n",
    "from evo.tools.plot import PlotMode\n",
    "from evo.core.metrics import PoseRelation, Unit\n",
    "from evo.tools.settings import SETTINGS\n",
    "\n",
    "# temporarily override some package settings\n",
    "SETTINGS.plot_figsize = [6, 6]\n",
    "SETTINGS.plot_split = True\n",
    "SETTINGS.plot_usetex = False\n",
    "\n",
    "# magic plot configuration\n",
    "import matplotlib.pyplot as plt\n",
    "%matplotlib inline\n",
    "%matplotlib notebook"
   ]
  },
  {
   "cell_type": "markdown",
   "metadata": {},
   "source": [
    "#### Console command info"
   ]
  },
  {
   "cell_type": "code",
   "execution_count": 10,
   "metadata": {},
   "outputs": [
    {
     "name": "stdout",
     "output_type": "stream",
     "text": [
      "usage: evo_ape tum [-h]\n",
      "                   [-r {full,trans_part,rot_part,angle_deg,angle_rad,point_distance}]\n",
      "                   [-a] [-s] [--n_to_align N_TO_ALIGN] [--align_origin] [-p]\n",
      "                   [--plot_mode {xy,xz,yx,yz,zx,zy,xyz}]\n",
      "                   [--plot_x_dimension {index,seconds,distances}]\n",
      "                   [--plot_colormap_max PLOT_COLORMAP_MAX]\n",
      "                   [--plot_colormap_min PLOT_COLORMAP_MIN]\n",
      "                   [--plot_colormap_max_percentile PLOT_COLORMAP_MAX_PERCENTILE]\n",
      "                   [--plot_full_ref] [--ros_map_yaml ROS_MAP_YAML]\n",
      "                   [--save_plot SAVE_PLOT] [--serialize_plot SERIALIZE_PLOT]\n",
      "                   [--save_results SAVE_RESULTS] [--logfile LOGFILE]\n",
      "                   [--no_warnings] [-v] [--silent] [--debug] [-c CONFIG]\n",
      "                   [--t_max_diff T_MAX_DIFF] [--t_offset T_OFFSET]\n",
      "                   [--t_start T_START] [--t_end T_END]\n",
      "                   ref_file est_file\n",
      "\n",
      "Absolute pose error (APE) metric app for TUM trajectory files - (c) evo\n",
      "authors\n",
      "\n",
      "positional arguments:\n",
      "  ref_file              reference trajectory file\n",
      "  est_file              estimated trajectory file\n",
      "\n",
      "options:\n",
      "  -h, --help            show this help message and exit\n",
      "  --t_max_diff T_MAX_DIFF\n",
      "                        maximum timestamp difference for data association\n",
      "  --t_offset T_OFFSET   constant timestamp offset for data association\n",
      "  --t_start T_START     only use data with timestamps greater or equal this\n",
      "                        start time\n",
      "  --t_end T_END         only use data with timestamps less or equal this end\n",
      "                        time\n",
      "\n",
      "algorithm options:\n",
      "  -r {full,trans_part,rot_part,angle_deg,angle_rad,point_distance}, --pose_relation {full,trans_part,rot_part,angle_deg,angle_rad,point_distance}\n",
      "                        pose relation on which the APE is based\n",
      "  -a, --align           alignment with Umeyama's method (no scale)\n",
      "  -s, --correct_scale   correct scale with Umeyama's method\n",
      "  --n_to_align N_TO_ALIGN\n",
      "                        the number of poses to use for Umeyama alignment,\n",
      "                        counted from the start (default: all)\n",
      "  --align_origin        align the trajectory origin to the origin of the\n",
      "                        reference trajectory\n",
      "\n",
      "output options:\n",
      "  -p, --plot            show plot window\n",
      "  --plot_mode {xy,xz,yx,yz,zx,zy,xyz}\n",
      "                        the axes for plot projection\n",
      "  --plot_x_dimension {index,seconds,distances}\n",
      "                        dimension that is used on the x-axis of the raw value\n",
      "                        plot(default: seconds, or index if no timestamps are\n",
      "                        present)\n",
      "  --plot_colormap_max PLOT_COLORMAP_MAX\n",
      "                        the upper bound used for the color map plot (default:\n",
      "                        maximum error value)\n",
      "  --plot_colormap_min PLOT_COLORMAP_MIN\n",
      "                        the lower bound used for the color map plot (default:\n",
      "                        minimum error value)\n",
      "  --plot_colormap_max_percentile PLOT_COLORMAP_MAX_PERCENTILE\n",
      "                        percentile of the error distribution to be used as the\n",
      "                        upper bound of the color map plot (in %, overrides\n",
      "                        --plot_colormap_max)\n",
      "  --plot_full_ref       plot the full, unsynchronized reference trajectory\n",
      "  --ros_map_yaml ROS_MAP_YAML\n",
      "                        yaml file of an ROS 2D map image (.pgm/.png) that will\n",
      "                        be drawn into the plot\n",
      "  --save_plot SAVE_PLOT\n",
      "                        path to save plot\n",
      "  --serialize_plot SERIALIZE_PLOT\n",
      "                        path to serialize plot (experimental)\n",
      "  --save_results SAVE_RESULTS\n",
      "                        .zip file path to store results\n",
      "  --logfile LOGFILE     Local logfile path.\n",
      "\n",
      "usability options:\n",
      "  --no_warnings         no warnings requiring user confirmation\n",
      "  -v, --verbose         verbose output\n",
      "  --silent              don't print any output\n",
      "  --debug               verbose output with additional debug info\n",
      "  -c CONFIG, --config CONFIG\n",
      "                        .json file with parameters (priority over command line\n",
      "                        args)\n"
     ]
    }
   ],
   "source": [
    "!evo_ape tum --help"
   ]
  },
  {
   "cell_type": "markdown",
   "metadata": {},
   "source": [
    "### KITTI"
   ]
  },
  {
   "cell_type": "code",
   "execution_count": 151,
   "metadata": {},
   "outputs": [],
   "source": [
    "seq = '08' # ['08', '09', '10']\n",
    "compare_to = 'original' # ['original', 'deblurred_seg', 'deblurred']"
   ]
  },
  {
   "cell_type": "code",
   "execution_count": 152,
   "metadata": {
    "scrolled": true
   },
   "outputs": [],
   "source": [
    "# convert from kitti to tum\n",
    "!python evo\\contrib\\kitti_poses_and_timestamps_to_trajectory.py \\\n",
    "sequences\\Kitti\\seq{seq}\\kitti_odometry_color_sequences_{seq}_groundtruth.txt \\\n",
    "sequences\\Kitti\\seq{seq}\\times_{seq}.txt \\\n",
    "sequences\\Kitti\\seq{seq}\\kitti_tum_{seq}.txt"
   ]
  },
  {
   "cell_type": "code",
   "execution_count": 153,
   "metadata": {},
   "outputs": [
    {
     "name": "stdout",
     "output_type": "stream",
     "text": [
      "APE w.r.t. translation part (m)\n",
      "(with Sim(3) Umeyama alignment)\n",
      "\n",
      "       max\t149.132567\n",
      "      mean\t37.757439\n",
      "    median\t24.806573\n",
      "       min\t4.428370\n",
      "      rmse\t49.640078\n",
      "       sse\t4891312.693477\n",
      "       std\t32.225971\n",
      "\n"
     ]
    }
   ],
   "source": [
    "# get matrics and plots (APE translation part)\n",
    "!evo_ape tum \\\n",
    "sequences\\Kitti\\seq{seq}\\kitti_tum_{seq}.txt \\\n",
    "sequences\\Kitti\\seq{seq}\\kitti_odometry_color_sequences_{seq}_{compare_to}.txt \\\n",
    "-r trans_part \\\n",
    "--align --correct_scale \\\n",
    "--plot --plot_mode=xz"
   ]
  },
  {
   "cell_type": "code",
   "execution_count": 148,
   "metadata": {},
   "outputs": [
    {
     "name": "stdout",
     "output_type": "stream",
     "text": [
      "RPE w.r.t. translation part (m)\n",
      "for delta = 1 (frames) using consecutive pairs\n",
      "(with Sim(3) Umeyama alignment)\n",
      "\n",
      "       max\t1.445767\n",
      "      mean\t0.499967\n",
      "    median\t0.407845\n",
      "       min\t0.194804\n",
      "      rmse\t0.566055\n",
      "       sse\t7.049202\n",
      "       std\t0.265427\n",
      "\n"
     ]
    }
   ],
   "source": [
    "# get matrics and plots (RPE translation part)\n",
    "!evo_rpe tum \\\n",
    "sequences\\Kitti\\seq{seq}\\kitti_tum_{seq}.txt \\\n",
    "sequences\\Kitti\\seq{seq}\\kitti_odometry_color_sequences_{seq}_{compare_to}.txt \\\n",
    "-r trans_part \\\n",
    "--align --correct_scale"
   ]
  },
  {
   "cell_type": "code",
   "execution_count": 149,
   "metadata": {},
   "outputs": [
    {
     "name": "stdout",
     "output_type": "stream",
     "text": [
      "RPE w.r.t. rotation angle in degrees (deg)\n",
      "for delta = 1 (frames) using consecutive pairs\n",
      "(with Sim(3) Umeyama alignment)\n",
      "\n",
      "       max\t0.137238\n",
      "      mean\t0.047745\n",
      "    median\t0.039147\n",
      "       min\t0.012142\n",
      "      rmse\t0.056375\n",
      "       sse\t0.069919\n",
      "       std\t0.029976\n",
      "\n"
     ]
    }
   ],
   "source": [
    "# get matrics and plots (RPE rotation angle in degrees)\n",
    "!evo_rpe tum \\\n",
    "sequences\\Kitti\\seq{seq}\\kitti_tum_{seq}.txt \\\n",
    "sequences\\Kitti\\seq{seq}\\kitti_odometry_color_sequences_{seq}_{compare_to}.txt \\\n",
    "-r angle_deg \\\n",
    "--align --correct_scale"
   ]
  },
  {
   "cell_type": "markdown",
   "metadata": {},
   "source": [
    "### TUM"
   ]
  },
  {
   "cell_type": "code",
   "execution_count": 90,
   "metadata": {},
   "outputs": [],
   "source": [
    "seq = 'freiburg3_long_office_household' # ['freiburg1_rpy', 'freiburg1_xyz', 'freiburg3_long_office_household']\n",
    "compare_to = 'original_seg' # ['original', 'original_seg', 'deblurred', 'deblurred_seg']"
   ]
  },
  {
   "cell_type": "code",
   "execution_count": null,
   "metadata": {
    "scrolled": true
   },
   "outputs": [],
   "source": [
    "# get matrics and plots (APE translation part)\n",
    "!evo_ape tum \\\n",
    "sequences\\TUM-rgbd\\rgbd_dataset_{seq}\\rgbd_dataset_{seq}_groundtruth.txt \\\n",
    "sequences\\TUM-rgbd\\rgbd_dataset_{seq}\\rgbd_dataset_{seq}_{compare_to}.txt \\\n",
    "-r trans_part \\\n",
    "--align --correct_scale"
   ]
  },
  {
   "cell_type": "code",
   "execution_count": null,
   "metadata": {
    "scrolled": false
   },
   "outputs": [],
   "source": [
    "# get matrics and plots (RPE translation part)\n",
    "!evo_rpe tum \\\n",
    "sequences\\TUM-rgbd\\rgbd_dataset_{seq}\\rgbd_dataset_{seq}_groundtruth.txt \\\n",
    "sequences\\TUM-rgbd\\rgbd_dataset_{seq}\\rgbd_dataset_{seq}_{compare_to}.txt \\\n",
    "-r trans_part \\\n",
    "--align --correct_scale"
   ]
  },
  {
   "cell_type": "code",
   "execution_count": null,
   "metadata": {},
   "outputs": [],
   "source": [
    "# get matrics and plots (RPE rotation angle in degrees)\n",
    "!evo_rpe tum \\\n",
    "sequences\\TUM-rgbd\\rgbd_dataset_{seq}\\rgbd_dataset_{seq}_groundtruth.txt \\\n",
    "sequences\\TUM-rgbd\\rgbd_dataset_{seq}\\rgbd_dataset_{seq}_{compare_to}.txt \\\n",
    "-r angle_deg \\\n",
    "--align --correct_scale"
   ]
  },
  {
   "cell_type": "code",
   "execution_count": null,
   "metadata": {},
   "outputs": [],
   "source": []
  }
 ],
 "metadata": {
  "interpreter": {
   "hash": "251bd1fb4f09bfaabdf7a6781ef96a845a1f949aa3c763d6d27821737351635a"
  },
  "kernelspec": {
   "display_name": "Python 3 (ipykernel)",
   "language": "python",
   "name": "python3"
  },
  "language_info": {
   "codemirror_mode": {
    "name": "ipython",
    "version": 3
   },
   "file_extension": ".py",
   "mimetype": "text/x-python",
   "name": "python",
   "nbconvert_exporter": "python",
   "pygments_lexer": "ipython3",
   "version": "3.10.0"
  },
  "widgets": {
   "state": {
    "54cc6cb1d20f45438fb3663d98d29406": {
     "views": [
      {
       "cell_index": 21
      }
     ]
    },
    "88c180f9f59147a592d738936cecf614": {
     "views": [
      {
       "cell_index": 16
      }
     ]
    }
   },
   "version": "1.2.0"
  }
 },
 "nbformat": 4,
 "nbformat_minor": 1
}
